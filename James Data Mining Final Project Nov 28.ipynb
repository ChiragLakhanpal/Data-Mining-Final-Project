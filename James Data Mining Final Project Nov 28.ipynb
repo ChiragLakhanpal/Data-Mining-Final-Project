{
 "cells": [
  {
   "cell_type": "markdown",
   "metadata": {},
   "source": [
    "# Data Mining Final Project\n",
    "James Crim copy/version of script\n",
    "Teammates are Amy Sharp and Chirag Lakhanpal!"
   ]
  },
  {
   "cell_type": "code",
   "execution_count": 1,
   "metadata": {},
   "outputs": [
    {
     "data": {
      "text/html": [
       "<style>.container { width:95% !important; }</style>"
      ],
      "text/plain": [
       "<IPython.core.display.HTML object>"
      ]
     },
     "metadata": {},
     "output_type": "display_data"
    }
   ],
   "source": [
    "from IPython.core.display import display, HTML\n",
    "display(HTML(\"<style>.container { width:95% !important; }</style>\"))"
   ]
  },
  {
   "cell_type": "code",
   "execution_count": 3,
   "metadata": {},
   "outputs": [],
   "source": [
    "import pandas as pd\n",
    "import numpy as np\n",
    "import matplotlib\n",
    "import matplotlib.pyplot as plt\n",
    "import wbgapi as wb\n",
    "import statsmodels.api as sm\n",
    "import sklearn as skl\n",
    "from sklearn import model_selection as mdl_slct\n",
    "from sklearn.linear_model import LassoCV\n",
    "from sklearn.linear_model import Ridge\n",
    "from sklearn.linear_model import RidgeCV\n",
    "from sklearn.model_selection import LeaveOneOut\n",
    "from sklearn.model_selection import RepeatedKFold\n",
    "from sklearn.decomposition import PCA\n",
    "from sklearn.tree import DecisionTreeRegressor\n",
    "from sklearn.ensemble import RandomForestRegressor\n",
    "\n",
    "# plot figures larger\n",
    "plt.rcParams['figure.figsize'] = [24, 6]\n",
    "\n",
    "# set seed\n",
    "np.random.seed(2022)"
   ]
  },
  {
   "cell_type": "code",
   "execution_count": 5,
   "metadata": {},
   "outputs": [],
   "source": [
    "# import raw data\n",
    "countries_to_use_raw = pd.read_csv('CountrUsedN(1).csv')\n",
    "\n",
    "# the seven indexes to use (copied from WorldBankIndUsed.docx from the Data Mining Blackboard)\n",
    "# note: CO2 emmissions per captia (CO2 kt / pop) is the outcome variable, the other x variables are predictor variables\n",
    "world_bank_index_codes = ['EN.ATM.CO2E.KT', 'NY.GDP.MKTP.PP.KD',  'SP.POP.TOTL', 'EG.FEC.RNEW.ZS', 'SP.URB.TOTL.IN.ZS', 'NV.MNF.TECH.ZS.UN', 'NE.TRD.GNFS.ZS']\n",
    "\n",
    "# manually typed up by me (same order as indexes):\n",
    "world_bank_index_names_long = ['CO2 Emissions (kt)', 'GDP per Capita, PPP (Constant 2017 International $)', 'Population, Total', 'Renewable Energy Consumption (% of Total Final Energy)',\n",
    "                             'Urban Population (% of Total Population)', 'Medium and High-Tech Manufacturing Value Added (% Manufacturing Value Added)', 'Trade (% of GDP)']\n",
    "world_bank_index_names_short = ['CO2 Emissions', 'GDP per Capita', 'Population', '% Renewable Energy', '% Urban', '% Med/High Manufacturing', '% Trade of GDP']"
   ]
  },
  {
   "cell_type": "markdown",
   "metadata": {},
   "source": [
    "# Instructions"
   ]
  },
  {
   "cell_type": "markdown",
   "metadata": {},
   "source": [
    "Mixed Effects Random Forests in Python"
   ]
  },
  {
   "cell_type": "code",
   "execution_count": null,
   "metadata": {},
   "outputs": [],
   "source": []
  },
  {
   "cell_type": "code",
   "execution_count": null,
   "metadata": {},
   "outputs": [],
   "source": []
  },
  {
   "cell_type": "code",
   "execution_count": null,
   "metadata": {},
   "outputs": [],
   "source": []
  },
  {
   "cell_type": "code",
   "execution_count": null,
   "metadata": {},
   "outputs": [],
   "source": []
  }
 ],
 "metadata": {
  "kernelspec": {
   "display_name": "Python 3",
   "language": "python",
   "name": "python3"
  },
  "language_info": {
   "codemirror_mode": {
    "name": "ipython",
    "version": 3
   },
   "file_extension": ".py",
   "mimetype": "text/x-python",
   "name": "python",
   "nbconvert_exporter": "python",
   "pygments_lexer": "ipython3",
   "version": "3.8.5"
  },
  "toc": {
   "base_numbering": 1,
   "nav_menu": {},
   "number_sections": true,
   "sideBar": true,
   "skip_h1_title": false,
   "title_cell": "Table of Contents",
   "title_sidebar": "Contents",
   "toc_cell": false,
   "toc_position": {},
   "toc_section_display": true,
   "toc_window_display": false
  }
 },
 "nbformat": 4,
 "nbformat_minor": 4
}
