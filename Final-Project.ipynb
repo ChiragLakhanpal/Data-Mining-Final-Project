{
 "cells": [
  {
   "cell_type": "code",
   "execution_count": 1,
   "metadata": {},
   "outputs": [],
   "source": [
    "%load_ext autoreload\n",
    "%autoreload 2\n",
    "import os, sys\n",
    "sys.path.append('..')\n",
    "%matplotlib inline\n",
    "import matplotlib.pyplot as plt\n",
    "import seaborn as sns\n",
    "sns.set_context(\"poster\")\n",
    "import numpy as np\n",
    "from sklearn.ensemble import RandomForestRegressor\n",
    "import pandas as pd\n",
    "import matplotlib as mpl\n",
    "mpl.rcParams['figure.figsize'] = (11,8)\n",
    "from merf.merf import MERF\n",
    "from sklearn.model_selection import train_test_split, KFold\n",
    "import warnings\n",
    "from sklearn.model_selection import RandomizedSearchCV\n",
    "from sklearn.model_selection import GridSearchCV\n",
    "\n",
    "warnings.filterwarnings('ignore')"
   ]
  },
  {
   "cell_type": "code",
   "execution_count": 2,
   "metadata": {},
   "outputs": [],
   "source": [
    "import dtale\n",
    "from merf import viz\n",
    "from merf.merf import *\n",
    "from sklearn import *"
   ]
  },
  {
   "cell_type": "code",
   "execution_count": 3,
   "metadata": {},
   "outputs": [],
   "source": [
    "import numpy as np\n",
    "import pandas as pd\n",
    "import seaborn as seas\n",
    "from sklearn.model_selection import train_test_split\n",
    "from sklearn.preprocessing import StandardScaler\n",
    "from sklearn.metrics import mean_squared_error\n",
    "import matplotlib.pyplot as plt\n",
    "import statsmodels.api as sm\n",
    "from sklearn import linear_model\n",
    "from sklearn.linear_model import LinearRegression\n",
    "from tabulate import tabulate\n",
    "from sklearn import model_selection\n",
    "from sklearn.model_selection import RepeatedKFold\n",
    "from sklearn.ensemble import RandomForestRegressor\n",
    "from statsmodels.stats.outliers_influence import variance_inflation_factor\n",
    "from sklearn.tree import DecisionTreeRegressor\n",
    "from sklearn import metrics\n",
    "from sklearn.preprocessing import StandardScaler\n",
    "import wbgapi as wb\n",
    "from scipy import stats\n",
    "\n",
    "seas.set(style=\"ticks\", context=\"talk\")\n",
    "plt.style.use(\"dark_background\")"
   ]
  },
  {
   "cell_type": "code",
   "execution_count": 4,
   "metadata": {},
   "outputs": [],
   "source": [
    "indexes = ['EN.ATM.CO2E.KT',        #CO2 emissions (kt)\n",
    "           'NY.GDP.MKTP.PP.KD',     #GDP per capita, PPP (constant 2017 international $)\n",
    "           'SP.POP.TOTL',           #Population, total \n",
    "           'EG.FEC.RNEW.ZS',        #Renewable energy consumption (% of total final energy\n",
    "           'SP.URB.TOTL.IN.ZS',     #Urban population (% of total population) \n",
    "           'NV.MNF.TECH.ZS.UN',     #Medium and high-tech manufacturing value added (% manufacturing value added)\n",
    "           'NE.TRD.GNFS.ZS']        #Trade (% of GDP)"
   ]
  },
  {
   "cell_type": "code",
   "execution_count": 5,
   "metadata": {},
   "outputs": [],
   "source": [
    "countries = ['Argentina',\n",
    "'Armenia',\n",
    "'Australia',\n",
    "'Austria',\n",
    "'Belgium',\n",
    "'Bulgaria',\n",
    "'Belarus',\n",
    "'Brazil',\n",
    "'Canada',\n",
    "'Switzerland',\n",
    "'Chile',\n",
    "'China',\n",
    "'Colombia',\n",
    "'Czech Republic',\n",
    "'Germany',\n",
    "'Denmark',\n",
    "'Spain',\n",
    "'Estonia',\n",
    "'Finland',\n",
    "'France',\n",
    "'United Kingdom',\n",
    "'Georgia',\n",
    "'Greece',\n",
    "'Croatia',\n",
    "'Hungary',\n",
    "'India',\n",
    "'Ireland',\n",
    "'Iceland',\n",
    "'Israel',\n",
    "'Italy',\n",
    "'Japan',\n",
    "'Kazakhstan',\n",
    "'Korea, Rep.',\n",
    "'Lithuania',\n",
    "'Latvia',\n",
    "'Moldova',\n",
    "'Mexico',\n",
    "'Malaysia',\n",
    "'Netherlands',\n",
    "'Norway',\n",
    "'New Zealand',\n",
    "'Panama',\n",
    "'Peru',\n",
    "'Poland',\n",
    "'Portugal',\n",
    "'Romania',\n",
    "'Russian Federation',\n",
    "'Singapore',\n",
    "'Serbia',\n",
    "'Slovak Republic',\n",
    "'Slovenia',\n",
    "'Sweden',\n",
    "'Turkey',\n",
    "'Ukraine',\n",
    "'United States',\n",
    "'South Africa'] "
   ]
  },
  {
   "cell_type": "code",
   "execution_count": 6,
   "metadata": {},
   "outputs": [],
   "source": [
    "countries = [wb.economy.coder(country) for country in countries]"
   ]
  },
  {
   "cell_type": "code",
   "execution_count": 7,
   "metadata": {},
   "outputs": [],
   "source": [
    "raw_dataset = wb.data.DataFrame(series = indexes, economy = countries, time = range(1994,2023), labels=True,columns='series')"
   ]
  },
  {
   "cell_type": "code",
   "execution_count": 8,
   "metadata": {},
   "outputs": [
    {
     "data": {
      "text/html": [
       "<div>\n",
       "<style scoped>\n",
       "    .dataframe tbody tr th:only-of-type {\n",
       "        vertical-align: middle;\n",
       "    }\n",
       "\n",
       "    .dataframe tbody tr th {\n",
       "        vertical-align: top;\n",
       "    }\n",
       "\n",
       "    .dataframe thead th {\n",
       "        text-align: right;\n",
       "    }\n",
       "</style>\n",
       "<table border=\"1\" class=\"dataframe\">\n",
       "  <thead>\n",
       "    <tr style=\"text-align: right;\">\n",
       "      <th></th>\n",
       "      <th></th>\n",
       "      <th>Country</th>\n",
       "      <th>Time</th>\n",
       "      <th>EG.FEC.RNEW.ZS</th>\n",
       "      <th>EN.ATM.CO2E.KT</th>\n",
       "      <th>NE.TRD.GNFS.ZS</th>\n",
       "      <th>NV.MNF.TECH.ZS.UN</th>\n",
       "      <th>NY.GDP.MKTP.PP.KD</th>\n",
       "      <th>SP.POP.TOTL</th>\n",
       "      <th>SP.URB.TOTL.IN.ZS</th>\n",
       "    </tr>\n",
       "    <tr>\n",
       "      <th>time</th>\n",
       "      <th>economy</th>\n",
       "      <th></th>\n",
       "      <th></th>\n",
       "      <th></th>\n",
       "      <th></th>\n",
       "      <th></th>\n",
       "      <th></th>\n",
       "      <th></th>\n",
       "      <th></th>\n",
       "      <th></th>\n",
       "    </tr>\n",
       "  </thead>\n",
       "  <tbody>\n",
       "    <tr>\n",
       "      <th rowspan=\"5\" valign=\"top\">YR2021</th>\n",
       "      <th>ZAF</th>\n",
       "      <td>South Africa</td>\n",
       "      <td>2021</td>\n",
       "      <td>NaN</td>\n",
       "      <td>NaN</td>\n",
       "      <td>56.071227</td>\n",
       "      <td>NaN</td>\n",
       "      <td>7.881121e+11</td>\n",
       "      <td>60041996.0</td>\n",
       "      <td>67.847</td>\n",
       "    </tr>\n",
       "    <tr>\n",
       "      <th>USA</th>\n",
       "      <td>United States</td>\n",
       "      <td>2021</td>\n",
       "      <td>NaN</td>\n",
       "      <td>NaN</td>\n",
       "      <td>NaN</td>\n",
       "      <td>NaN</td>\n",
       "      <td>2.093228e+13</td>\n",
       "      <td>331893745.0</td>\n",
       "      <td>82.873</td>\n",
       "    </tr>\n",
       "    <tr>\n",
       "      <th>UKR</th>\n",
       "      <td>Ukraine</td>\n",
       "      <td>2021</td>\n",
       "      <td>NaN</td>\n",
       "      <td>NaN</td>\n",
       "      <td>82.621300</td>\n",
       "      <td>NaN</td>\n",
       "      <td>5.355789e+11</td>\n",
       "      <td>43814581.0</td>\n",
       "      <td>69.757</td>\n",
       "    </tr>\n",
       "    <tr>\n",
       "      <th>TUR</th>\n",
       "      <td>Turkiye</td>\n",
       "      <td>2021</td>\n",
       "      <td>NaN</td>\n",
       "      <td>NaN</td>\n",
       "      <td>71.212724</td>\n",
       "      <td>NaN</td>\n",
       "      <td>2.657762e+12</td>\n",
       "      <td>85042736.0</td>\n",
       "      <td>76.569</td>\n",
       "    </tr>\n",
       "    <tr>\n",
       "      <th>SWE</th>\n",
       "      <td>Sweden</td>\n",
       "      <td>2021</td>\n",
       "      <td>NaN</td>\n",
       "      <td>NaN</td>\n",
       "      <td>88.162017</td>\n",
       "      <td>NaN</td>\n",
       "      <td>5.525622e+11</td>\n",
       "      <td>10415811.0</td>\n",
       "      <td>88.238</td>\n",
       "    </tr>\n",
       "    <tr>\n",
       "      <th>...</th>\n",
       "      <th>...</th>\n",
       "      <td>...</td>\n",
       "      <td>...</td>\n",
       "      <td>...</td>\n",
       "      <td>...</td>\n",
       "      <td>...</td>\n",
       "      <td>...</td>\n",
       "      <td>...</td>\n",
       "      <td>...</td>\n",
       "      <td>...</td>\n",
       "    </tr>\n",
       "    <tr>\n",
       "      <th rowspan=\"5\" valign=\"top\">YR1994</th>\n",
       "      <th>BEL</th>\n",
       "      <td>Belgium</td>\n",
       "      <td>1994</td>\n",
       "      <td>0.939573</td>\n",
       "      <td>114900.0</td>\n",
       "      <td>113.232300</td>\n",
       "      <td>14.080100</td>\n",
       "      <td>3.740897e+11</td>\n",
       "      <td>10115603.0</td>\n",
       "      <td>96.700</td>\n",
       "    </tr>\n",
       "    <tr>\n",
       "      <th>AUT</th>\n",
       "      <td>Austria</td>\n",
       "      <td>1994</td>\n",
       "      <td>25.679455</td>\n",
       "      <td>58280.0</td>\n",
       "      <td>65.987093</td>\n",
       "      <td>36.610757</td>\n",
       "      <td>3.129625e+11</td>\n",
       "      <td>7936118.0</td>\n",
       "      <td>61.870</td>\n",
       "    </tr>\n",
       "    <tr>\n",
       "      <th>AUS</th>\n",
       "      <td>Australia</td>\n",
       "      <td>1994</td>\n",
       "      <td>8.259947</td>\n",
       "      <td>280180.0</td>\n",
       "      <td>36.458731</td>\n",
       "      <td>27.756124</td>\n",
       "      <td>5.726639e+11</td>\n",
       "      <td>17855000.0</td>\n",
       "      <td>85.028</td>\n",
       "    </tr>\n",
       "    <tr>\n",
       "      <th>ARM</th>\n",
       "      <td>Armenia</td>\n",
       "      <td>1994</td>\n",
       "      <td>17.763653</td>\n",
       "      <td>2740.0</td>\n",
       "      <td>112.429365</td>\n",
       "      <td>28.824233</td>\n",
       "      <td>9.053823e+09</td>\n",
       "      <td>3283664.0</td>\n",
       "      <td>66.332</td>\n",
       "    </tr>\n",
       "    <tr>\n",
       "      <th>ARG</th>\n",
       "      <td>Argentina</td>\n",
       "      <td>1994</td>\n",
       "      <td>10.734909</td>\n",
       "      <td>111910.0</td>\n",
       "      <td>18.134346</td>\n",
       "      <td>29.628354</td>\n",
       "      <td>6.224138e+11</td>\n",
       "      <td>34402669.0</td>\n",
       "      <td>87.960</td>\n",
       "    </tr>\n",
       "  </tbody>\n",
       "</table>\n",
       "<p>1568 rows × 9 columns</p>\n",
       "</div>"
      ],
      "text/plain": [
       "                      Country  Time  EG.FEC.RNEW.ZS  EN.ATM.CO2E.KT  \\\n",
       "time   economy                                                        \n",
       "YR2021 ZAF       South Africa  2021             NaN             NaN   \n",
       "       USA      United States  2021             NaN             NaN   \n",
       "       UKR            Ukraine  2021             NaN             NaN   \n",
       "       TUR            Turkiye  2021             NaN             NaN   \n",
       "       SWE             Sweden  2021             NaN             NaN   \n",
       "...                       ...   ...             ...             ...   \n",
       "YR1994 BEL            Belgium  1994        0.939573        114900.0   \n",
       "       AUT            Austria  1994       25.679455         58280.0   \n",
       "       AUS          Australia  1994        8.259947        280180.0   \n",
       "       ARM            Armenia  1994       17.763653          2740.0   \n",
       "       ARG          Argentina  1994       10.734909        111910.0   \n",
       "\n",
       "                NE.TRD.GNFS.ZS  NV.MNF.TECH.ZS.UN  NY.GDP.MKTP.PP.KD  \\\n",
       "time   economy                                                         \n",
       "YR2021 ZAF           56.071227                NaN       7.881121e+11   \n",
       "       USA                 NaN                NaN       2.093228e+13   \n",
       "       UKR           82.621300                NaN       5.355789e+11   \n",
       "       TUR           71.212724                NaN       2.657762e+12   \n",
       "       SWE           88.162017                NaN       5.525622e+11   \n",
       "...                        ...                ...                ...   \n",
       "YR1994 BEL          113.232300          14.080100       3.740897e+11   \n",
       "       AUT           65.987093          36.610757       3.129625e+11   \n",
       "       AUS           36.458731          27.756124       5.726639e+11   \n",
       "       ARM          112.429365          28.824233       9.053823e+09   \n",
       "       ARG           18.134346          29.628354       6.224138e+11   \n",
       "\n",
       "                SP.POP.TOTL  SP.URB.TOTL.IN.ZS  \n",
       "time   economy                                  \n",
       "YR2021 ZAF       60041996.0             67.847  \n",
       "       USA      331893745.0             82.873  \n",
       "       UKR       43814581.0             69.757  \n",
       "       TUR       85042736.0             76.569  \n",
       "       SWE       10415811.0             88.238  \n",
       "...                     ...                ...  \n",
       "YR1994 BEL       10115603.0             96.700  \n",
       "       AUT        7936118.0             61.870  \n",
       "       AUS       17855000.0             85.028  \n",
       "       ARM        3283664.0             66.332  \n",
       "       ARG       34402669.0             87.960  \n",
       "\n",
       "[1568 rows x 9 columns]"
      ]
     },
     "execution_count": 8,
     "metadata": {},
     "output_type": "execute_result"
    }
   ],
   "source": [
    "raw_dataset.unstack(0).stack()"
   ]
  },
  {
   "cell_type": "markdown",
   "metadata": {},
   "source": [
    "# Overview"
   ]
  },
  {
   "cell_type": "code",
   "execution_count": 9,
   "metadata": {},
   "outputs": [],
   "source": [
    "col = ['Number of variables',\n",
    "'Number of observations',\n",
    "'Missing cells',\n",
    "'Missing cells (%)',\n",
    "'Rows with Missing cells',\n",
    "'Rows with Missing cells (%)',\n",
    "'Duplicate rows',\n",
    "'Duplicate rows (%)']\n",
    "\n",
    "val = [len(raw_dataset.columns),\n",
    "len(raw_dataset),\n",
    "raw_dataset.isna().values.sum(),\n",
    "(raw_dataset.isna().values.sum()/len(raw_dataset)) * 100,\n",
    "len(raw_dataset) - len(raw_dataset.dropna()),\n",
    "((len(raw_dataset)-len(raw_dataset.dropna()))/len(raw_dataset)) * 100,\n",
    "raw_dataset.duplicated().sum(),\n",
    "raw_dataset.duplicated().sum()]\n",
    "\n",
    "val = list(map(round,val))\n",
    "\n",
    "overview = pd.DataFrame(zip(col,val), columns=['Variables', 'Count'])"
   ]
  },
  {
   "cell_type": "code",
   "execution_count": 10,
   "metadata": {},
   "outputs": [
    {
     "data": {
      "text/html": [
       "<div>\n",
       "<style scoped>\n",
       "    .dataframe tbody tr th:only-of-type {\n",
       "        vertical-align: middle;\n",
       "    }\n",
       "\n",
       "    .dataframe tbody tr th {\n",
       "        vertical-align: top;\n",
       "    }\n",
       "\n",
       "    .dataframe thead th {\n",
       "        text-align: right;\n",
       "    }\n",
       "</style>\n",
       "<table border=\"1\" class=\"dataframe\">\n",
       "  <thead>\n",
       "    <tr style=\"text-align: right;\">\n",
       "      <th></th>\n",
       "      <th>Variables</th>\n",
       "      <th>Count</th>\n",
       "    </tr>\n",
       "  </thead>\n",
       "  <tbody>\n",
       "    <tr>\n",
       "      <th>0</th>\n",
       "      <td>Number of variables</td>\n",
       "      <td>9</td>\n",
       "    </tr>\n",
       "    <tr>\n",
       "      <th>1</th>\n",
       "      <td>Number of observations</td>\n",
       "      <td>1568</td>\n",
       "    </tr>\n",
       "    <tr>\n",
       "      <th>2</th>\n",
       "      <td>Missing cells</td>\n",
       "      <td>362</td>\n",
       "    </tr>\n",
       "    <tr>\n",
       "      <th>3</th>\n",
       "      <td>Missing cells (%)</td>\n",
       "      <td>23</td>\n",
       "    </tr>\n",
       "    <tr>\n",
       "      <th>4</th>\n",
       "      <td>Rows with Missing cells</td>\n",
       "      <td>125</td>\n",
       "    </tr>\n",
       "    <tr>\n",
       "      <th>5</th>\n",
       "      <td>Rows with Missing cells (%)</td>\n",
       "      <td>8</td>\n",
       "    </tr>\n",
       "    <tr>\n",
       "      <th>6</th>\n",
       "      <td>Duplicate rows</td>\n",
       "      <td>0</td>\n",
       "    </tr>\n",
       "    <tr>\n",
       "      <th>7</th>\n",
       "      <td>Duplicate rows (%)</td>\n",
       "      <td>0</td>\n",
       "    </tr>\n",
       "  </tbody>\n",
       "</table>\n",
       "</div>"
      ],
      "text/plain": [
       "                     Variables  Count\n",
       "0          Number of variables      9\n",
       "1       Number of observations   1568\n",
       "2                Missing cells    362\n",
       "3            Missing cells (%)     23\n",
       "4      Rows with Missing cells    125\n",
       "5  Rows with Missing cells (%)      8\n",
       "6               Duplicate rows      0\n",
       "7           Duplicate rows (%)      0"
      ]
     },
     "execution_count": 10,
     "metadata": {},
     "output_type": "execute_result"
    }
   ],
   "source": [
    "overview"
   ]
  },
  {
   "cell_type": "markdown",
   "metadata": {},
   "source": [
    "## Data preprocessing"
   ]
  },
  {
   "cell_type": "markdown",
   "metadata": {},
   "source": [
    "### Renaming columns for berter readability"
   ]
  },
  {
   "cell_type": "code",
   "execution_count": 11,
   "metadata": {},
   "outputs": [],
   "source": [
    "raw_dataset = raw_dataset.rename({'EG.FEC.RNEW.ZS': 'Renewable energy consumption',\n",
    "'EN.ATM.CO2E.KT': 'CO2 emissions',\n",
    "'NE.TRD.GNFS.ZS': 'Trade (% of GDP)',\n",
    "'NV.MNF.TECH.ZS.UN': 'Perc Manufacturing Value Added',\n",
    "'NY.GDP.MKTP.PP.KD': 'GDP per capita',\n",
    "'SP.POP.TOTL': 'Total Population',\n",
    "'SP.URB.TOTL.IN.ZS': 'Urban Population',\n",
    "},axis = 1)"
   ]
  },
  {
   "cell_type": "code",
   "execution_count": 12,
   "metadata": {},
   "outputs": [
    {
     "data": {
      "text/html": [
       "<div>\n",
       "<style scoped>\n",
       "    .dataframe tbody tr th:only-of-type {\n",
       "        vertical-align: middle;\n",
       "    }\n",
       "\n",
       "    .dataframe tbody tr th {\n",
       "        vertical-align: top;\n",
       "    }\n",
       "\n",
       "    .dataframe thead th {\n",
       "        text-align: right;\n",
       "    }\n",
       "</style>\n",
       "<table border=\"1\" class=\"dataframe\">\n",
       "  <thead>\n",
       "    <tr style=\"text-align: right;\">\n",
       "      <th></th>\n",
       "      <th></th>\n",
       "      <th>Country</th>\n",
       "      <th>Time</th>\n",
       "      <th>Renewable energy consumption</th>\n",
       "      <th>CO2 emissions</th>\n",
       "      <th>Trade (% of GDP)</th>\n",
       "      <th>Perc Manufacturing Value Added</th>\n",
       "      <th>GDP per capita</th>\n",
       "      <th>Total Population</th>\n",
       "      <th>Urban Population</th>\n",
       "    </tr>\n",
       "    <tr>\n",
       "      <th>economy</th>\n",
       "      <th>time</th>\n",
       "      <th></th>\n",
       "      <th></th>\n",
       "      <th></th>\n",
       "      <th></th>\n",
       "      <th></th>\n",
       "      <th></th>\n",
       "      <th></th>\n",
       "      <th></th>\n",
       "      <th></th>\n",
       "    </tr>\n",
       "  </thead>\n",
       "  <tbody>\n",
       "    <tr>\n",
       "      <th rowspan=\"5\" valign=\"top\">ZAF</th>\n",
       "      <th>YR2021</th>\n",
       "      <td>South Africa</td>\n",
       "      <td>2021</td>\n",
       "      <td>NaN</td>\n",
       "      <td>NaN</td>\n",
       "      <td>56.071227</td>\n",
       "      <td>NaN</td>\n",
       "      <td>7.881121e+11</td>\n",
       "      <td>60041996.0</td>\n",
       "      <td>67.847</td>\n",
       "    </tr>\n",
       "    <tr>\n",
       "      <th>YR2020</th>\n",
       "      <td>South Africa</td>\n",
       "      <td>2020</td>\n",
       "      <td>NaN</td>\n",
       "      <td>NaN</td>\n",
       "      <td>51.126846</td>\n",
       "      <td>NaN</td>\n",
       "      <td>7.511939e+11</td>\n",
       "      <td>59308690.0</td>\n",
       "      <td>67.354</td>\n",
       "    </tr>\n",
       "    <tr>\n",
       "      <th>YR2019</th>\n",
       "      <td>South Africa</td>\n",
       "      <td>2019</td>\n",
       "      <td>10.50</td>\n",
       "      <td>439640.014648</td>\n",
       "      <td>54.150246</td>\n",
       "      <td>24.428034</td>\n",
       "      <td>8.028319e+11</td>\n",
       "      <td>58558267.0</td>\n",
       "      <td>66.856</td>\n",
       "    </tr>\n",
       "    <tr>\n",
       "      <th>YR2018</th>\n",
       "      <td>South Africa</td>\n",
       "      <td>2018</td>\n",
       "      <td>10.19</td>\n",
       "      <td>434350.006104</td>\n",
       "      <td>54.507584</td>\n",
       "      <td>24.428034</td>\n",
       "      <td>8.019253e+11</td>\n",
       "      <td>57792520.0</td>\n",
       "      <td>66.355</td>\n",
       "    </tr>\n",
       "    <tr>\n",
       "      <th>YR2017</th>\n",
       "      <td>South Africa</td>\n",
       "      <td>2017</td>\n",
       "      <td>10.45</td>\n",
       "      <td>435649.993896</td>\n",
       "      <td>53.535932</td>\n",
       "      <td>24.428034</td>\n",
       "      <td>7.901706e+11</td>\n",
       "      <td>57009751.0</td>\n",
       "      <td>65.850</td>\n",
       "    </tr>\n",
       "  </tbody>\n",
       "</table>\n",
       "</div>"
      ],
      "text/plain": [
       "                     Country  Time  Renewable energy consumption  \\\n",
       "economy time                                                       \n",
       "ZAF     YR2021  South Africa  2021                           NaN   \n",
       "        YR2020  South Africa  2020                           NaN   \n",
       "        YR2019  South Africa  2019                         10.50   \n",
       "        YR2018  South Africa  2018                         10.19   \n",
       "        YR2017  South Africa  2017                         10.45   \n",
       "\n",
       "                CO2 emissions  Trade (% of GDP)  \\\n",
       "economy time                                      \n",
       "ZAF     YR2021            NaN         56.071227   \n",
       "        YR2020            NaN         51.126846   \n",
       "        YR2019  439640.014648         54.150246   \n",
       "        YR2018  434350.006104         54.507584   \n",
       "        YR2017  435649.993896         53.535932   \n",
       "\n",
       "                Perc Manufacturing Value Added  GDP per capita  \\\n",
       "economy time                                                     \n",
       "ZAF     YR2021                             NaN    7.881121e+11   \n",
       "        YR2020                             NaN    7.511939e+11   \n",
       "        YR2019                       24.428034    8.028319e+11   \n",
       "        YR2018                       24.428034    8.019253e+11   \n",
       "        YR2017                       24.428034    7.901706e+11   \n",
       "\n",
       "                Total Population  Urban Population  \n",
       "economy time                                        \n",
       "ZAF     YR2021        60041996.0            67.847  \n",
       "        YR2020        59308690.0            67.354  \n",
       "        YR2019        58558267.0            66.856  \n",
       "        YR2018        57792520.0            66.355  \n",
       "        YR2017        57009751.0            65.850  "
      ]
     },
     "execution_count": 12,
     "metadata": {},
     "output_type": "execute_result"
    }
   ],
   "source": [
    "raw_dataset.head()"
   ]
  },
  {
   "cell_type": "markdown",
   "metadata": {},
   "source": [
    "### Missing value check\n"
   ]
  },
  {
   "cell_type": "code",
   "execution_count": 13,
   "metadata": {},
   "outputs": [
    {
     "data": {
      "text/plain": [
       "Country                             0\n",
       "Time                                0\n",
       "Renewable energy consumption      112\n",
       "CO2 emissions                     112\n",
       "Trade (% of GDP)                   14\n",
       "Perc Manufacturing Value Added    112\n",
       "GDP per capita                     12\n",
       "Total Population                    0\n",
       "Urban Population                    0\n",
       "dtype: int64"
      ]
     },
     "execution_count": 13,
     "metadata": {},
     "output_type": "execute_result"
    }
   ],
   "source": [
    "raw_dataset.isna().sum()"
   ]
  },
  {
   "cell_type": "code",
   "execution_count": 14,
   "metadata": {},
   "outputs": [],
   "source": [
    "raw_dataset = raw_dataset.dropna()"
   ]
  },
  {
   "cell_type": "markdown",
   "metadata": {},
   "source": [
    "### Outlier detection and treatment"
   ]
  },
  {
   "cell_type": "code",
   "execution_count": 15,
   "metadata": {},
   "outputs": [
    {
     "data": {
      "text/html": [
       "<div>\n",
       "<style scoped>\n",
       "    .dataframe tbody tr th:only-of-type {\n",
       "        vertical-align: middle;\n",
       "    }\n",
       "\n",
       "    .dataframe tbody tr th {\n",
       "        vertical-align: top;\n",
       "    }\n",
       "\n",
       "    .dataframe thead th {\n",
       "        text-align: right;\n",
       "    }\n",
       "</style>\n",
       "<table border=\"1\" class=\"dataframe\">\n",
       "  <thead>\n",
       "    <tr style=\"text-align: right;\">\n",
       "      <th></th>\n",
       "      <th>Variables</th>\n",
       "      <th>No. of Outliers</th>\n",
       "    </tr>\n",
       "  </thead>\n",
       "  <tbody>\n",
       "    <tr>\n",
       "      <th>0</th>\n",
       "      <td>Renewable energy consumption</td>\n",
       "      <td>14</td>\n",
       "    </tr>\n",
       "    <tr>\n",
       "      <th>1</th>\n",
       "      <td>CO2 emissions</td>\n",
       "      <td>43</td>\n",
       "    </tr>\n",
       "    <tr>\n",
       "      <th>2</th>\n",
       "      <td>Trade (% of GDP)</td>\n",
       "      <td>27</td>\n",
       "    </tr>\n",
       "    <tr>\n",
       "      <th>3</th>\n",
       "      <td>Perc Manufacturing Value Added</td>\n",
       "      <td>10</td>\n",
       "    </tr>\n",
       "    <tr>\n",
       "      <th>4</th>\n",
       "      <td>GDP per capita</td>\n",
       "      <td>38</td>\n",
       "    </tr>\n",
       "    <tr>\n",
       "      <th>5</th>\n",
       "      <td>Total Population</td>\n",
       "      <td>52</td>\n",
       "    </tr>\n",
       "    <tr>\n",
       "      <th>6</th>\n",
       "      <td>Urban Population</td>\n",
       "      <td>10</td>\n",
       "    </tr>\n",
       "  </tbody>\n",
       "</table>\n",
       "</div>"
      ],
      "text/plain": [
       "                        Variables  No. of Outliers\n",
       "0    Renewable energy consumption               14\n",
       "1                   CO2 emissions               43\n",
       "2                Trade (% of GDP)               27\n",
       "3  Perc Manufacturing Value Added               10\n",
       "4                  GDP per capita               38\n",
       "5                Total Population               52\n",
       "6                Urban Population               10"
      ]
     },
     "execution_count": 15,
     "metadata": {},
     "output_type": "execute_result"
    }
   ],
   "source": [
    "def outlier_treatment(dataset):\n",
    "    \"\"\"\n",
    "    \n",
    "    Values lying outside 3SD are considered as outliers for this analysis\n",
    "    Outlier values are treated with mean of that column\n",
    "    \n",
    "    Parameters\n",
    "    ----------\n",
    "    df : dataframe\n",
    "    \n",
    "    Returns\n",
    "    ----------\n",
    "    Dataframe with treated outlier values\n",
    "    \"\"\"\n",
    "    outlier_summary = []\n",
    "\n",
    "    for col in dataset.columns[2:]:\n",
    "        outliers = dataset[(np.abs(stats.zscore(dataset[col]))>3)][col]\n",
    "        outlier_summary.append([col, len(outliers)])\n",
    "        dataset.loc[outliers.index, col] = dataset[col].mean()\n",
    "\n",
    "    outlier_summary = pd.DataFrame(outlier_summary, columns=['Variables', 'No. of Outliers'])\n",
    "\n",
    "    return dataset,outlier_summary\n",
    "\n",
    "raw_dataset,outlier_summary = outlier_treatment(raw_dataset)\n",
    "\n",
    "outlier_summary"
   ]
  },
  {
   "cell_type": "markdown",
   "metadata": {},
   "source": [
    "### Calculating Column of Intrest"
   ]
  },
  {
   "cell_type": "code",
   "execution_count": 16,
   "metadata": {},
   "outputs": [
    {
     "data": {
      "text/html": [
       "<div>\n",
       "<style scoped>\n",
       "    .dataframe tbody tr th:only-of-type {\n",
       "        vertical-align: middle;\n",
       "    }\n",
       "\n",
       "    .dataframe tbody tr th {\n",
       "        vertical-align: top;\n",
       "    }\n",
       "\n",
       "    .dataframe thead th {\n",
       "        text-align: right;\n",
       "    }\n",
       "</style>\n",
       "<table border=\"1\" class=\"dataframe\">\n",
       "  <thead>\n",
       "    <tr style=\"text-align: right;\">\n",
       "      <th></th>\n",
       "      <th></th>\n",
       "      <th>Country</th>\n",
       "      <th>Time</th>\n",
       "      <th>Renewable energy consumption</th>\n",
       "      <th>CO2 emissions</th>\n",
       "      <th>Trade (% of GDP)</th>\n",
       "      <th>Perc Manufacturing Value Added</th>\n",
       "      <th>GDP per capita</th>\n",
       "      <th>Total Population</th>\n",
       "      <th>Urban Population</th>\n",
       "    </tr>\n",
       "    <tr>\n",
       "      <th>economy</th>\n",
       "      <th>time</th>\n",
       "      <th></th>\n",
       "      <th></th>\n",
       "      <th></th>\n",
       "      <th></th>\n",
       "      <th></th>\n",
       "      <th></th>\n",
       "      <th></th>\n",
       "      <th></th>\n",
       "      <th></th>\n",
       "    </tr>\n",
       "  </thead>\n",
       "  <tbody>\n",
       "    <tr>\n",
       "      <th rowspan=\"5\" valign=\"top\">ZAF</th>\n",
       "      <th>YR2019</th>\n",
       "      <td>South Africa</td>\n",
       "      <td>2019</td>\n",
       "      <td>10.500000</td>\n",
       "      <td>439640.014648</td>\n",
       "      <td>54.150246</td>\n",
       "      <td>24.428034</td>\n",
       "      <td>8.028319e+11</td>\n",
       "      <td>58558267.0</td>\n",
       "      <td>66.856</td>\n",
       "    </tr>\n",
       "    <tr>\n",
       "      <th>YR2018</th>\n",
       "      <td>South Africa</td>\n",
       "      <td>2018</td>\n",
       "      <td>10.190000</td>\n",
       "      <td>434350.006104</td>\n",
       "      <td>54.507584</td>\n",
       "      <td>24.428034</td>\n",
       "      <td>8.019253e+11</td>\n",
       "      <td>57792520.0</td>\n",
       "      <td>66.355</td>\n",
       "    </tr>\n",
       "    <tr>\n",
       "      <th>YR2017</th>\n",
       "      <td>South Africa</td>\n",
       "      <td>2017</td>\n",
       "      <td>10.450000</td>\n",
       "      <td>435649.993896</td>\n",
       "      <td>53.535932</td>\n",
       "      <td>24.428034</td>\n",
       "      <td>7.901706e+11</td>\n",
       "      <td>57009751.0</td>\n",
       "      <td>65.850</td>\n",
       "    </tr>\n",
       "    <tr>\n",
       "      <th>YR2016</th>\n",
       "      <td>South Africa</td>\n",
       "      <td>2016</td>\n",
       "      <td>10.530000</td>\n",
       "      <td>425140.014648</td>\n",
       "      <td>55.861258</td>\n",
       "      <td>24.428034</td>\n",
       "      <td>7.811255e+11</td>\n",
       "      <td>56207649.0</td>\n",
       "      <td>65.341</td>\n",
       "    </tr>\n",
       "    <tr>\n",
       "      <th>YR2015</th>\n",
       "      <td>South Africa</td>\n",
       "      <td>2015</td>\n",
       "      <td>10.280000</td>\n",
       "      <td>424809.997559</td>\n",
       "      <td>56.726676</td>\n",
       "      <td>24.428034</td>\n",
       "      <td>7.759688e+11</td>\n",
       "      <td>55386369.0</td>\n",
       "      <td>64.828</td>\n",
       "    </tr>\n",
       "    <tr>\n",
       "      <th>...</th>\n",
       "      <th>...</th>\n",
       "      <td>...</td>\n",
       "      <td>...</td>\n",
       "      <td>...</td>\n",
       "      <td>...</td>\n",
       "      <td>...</td>\n",
       "      <td>...</td>\n",
       "      <td>...</td>\n",
       "      <td>...</td>\n",
       "      <td>...</td>\n",
       "    </tr>\n",
       "    <tr>\n",
       "      <th rowspan=\"5\" valign=\"top\">ARG</th>\n",
       "      <th>YR1998</th>\n",
       "      <td>Argentina</td>\n",
       "      <td>1998</td>\n",
       "      <td>11.343009</td>\n",
       "      <td>132670.000000</td>\n",
       "      <td>23.350028</td>\n",
       "      <td>30.443321</td>\n",
       "      <td>7.164454e+11</td>\n",
       "      <td>36063451.0</td>\n",
       "      <td>88.759</td>\n",
       "    </tr>\n",
       "    <tr>\n",
       "      <th>YR1997</th>\n",
       "      <td>Argentina</td>\n",
       "      <td>1997</td>\n",
       "      <td>10.999073</td>\n",
       "      <td>126120.000000</td>\n",
       "      <td>23.336179</td>\n",
       "      <td>30.983214</td>\n",
       "      <td>6.898836e+11</td>\n",
       "      <td>35657438.0</td>\n",
       "      <td>88.564</td>\n",
       "    </tr>\n",
       "    <tr>\n",
       "      <th>YR1996</th>\n",
       "      <td>Argentina</td>\n",
       "      <td>1996</td>\n",
       "      <td>10.193856</td>\n",
       "      <td>122550.000000</td>\n",
       "      <td>21.506468</td>\n",
       "      <td>28.563551</td>\n",
       "      <td>6.381250e+11</td>\n",
       "      <td>35246376.0</td>\n",
       "      <td>88.366</td>\n",
       "    </tr>\n",
       "    <tr>\n",
       "      <th>YR1995</th>\n",
       "      <td>Argentina</td>\n",
       "      <td>1995</td>\n",
       "      <td>11.205185</td>\n",
       "      <td>112890.000000</td>\n",
       "      <td>19.771423</td>\n",
       "      <td>27.200513</td>\n",
       "      <td>6.047048e+11</td>\n",
       "      <td>34828168.0</td>\n",
       "      <td>88.164</td>\n",
       "    </tr>\n",
       "    <tr>\n",
       "      <th>YR1994</th>\n",
       "      <td>Argentina</td>\n",
       "      <td>1994</td>\n",
       "      <td>10.734909</td>\n",
       "      <td>111910.000000</td>\n",
       "      <td>18.134346</td>\n",
       "      <td>29.628354</td>\n",
       "      <td>6.224138e+11</td>\n",
       "      <td>34402669.0</td>\n",
       "      <td>87.960</td>\n",
       "    </tr>\n",
       "  </tbody>\n",
       "</table>\n",
       "<p>1443 rows × 9 columns</p>\n",
       "</div>"
      ],
      "text/plain": [
       "                     Country  Time  Renewable energy consumption  \\\n",
       "economy time                                                       \n",
       "ZAF     YR2019  South Africa  2019                     10.500000   \n",
       "        YR2018  South Africa  2018                     10.190000   \n",
       "        YR2017  South Africa  2017                     10.450000   \n",
       "        YR2016  South Africa  2016                     10.530000   \n",
       "        YR2015  South Africa  2015                     10.280000   \n",
       "...                      ...   ...                           ...   \n",
       "ARG     YR1998     Argentina  1998                     11.343009   \n",
       "        YR1997     Argentina  1997                     10.999073   \n",
       "        YR1996     Argentina  1996                     10.193856   \n",
       "        YR1995     Argentina  1995                     11.205185   \n",
       "        YR1994     Argentina  1994                     10.734909   \n",
       "\n",
       "                CO2 emissions  Trade (% of GDP)  \\\n",
       "economy time                                      \n",
       "ZAF     YR2019  439640.014648         54.150246   \n",
       "        YR2018  434350.006104         54.507584   \n",
       "        YR2017  435649.993896         53.535932   \n",
       "        YR2016  425140.014648         55.861258   \n",
       "        YR2015  424809.997559         56.726676   \n",
       "...                       ...               ...   \n",
       "ARG     YR1998  132670.000000         23.350028   \n",
       "        YR1997  126120.000000         23.336179   \n",
       "        YR1996  122550.000000         21.506468   \n",
       "        YR1995  112890.000000         19.771423   \n",
       "        YR1994  111910.000000         18.134346   \n",
       "\n",
       "                Perc Manufacturing Value Added  GDP per capita  \\\n",
       "economy time                                                     \n",
       "ZAF     YR2019                       24.428034    8.028319e+11   \n",
       "        YR2018                       24.428034    8.019253e+11   \n",
       "        YR2017                       24.428034    7.901706e+11   \n",
       "        YR2016                       24.428034    7.811255e+11   \n",
       "        YR2015                       24.428034    7.759688e+11   \n",
       "...                                        ...             ...   \n",
       "ARG     YR1998                       30.443321    7.164454e+11   \n",
       "        YR1997                       30.983214    6.898836e+11   \n",
       "        YR1996                       28.563551    6.381250e+11   \n",
       "        YR1995                       27.200513    6.047048e+11   \n",
       "        YR1994                       29.628354    6.224138e+11   \n",
       "\n",
       "                Total Population  Urban Population  \n",
       "economy time                                        \n",
       "ZAF     YR2019        58558267.0            66.856  \n",
       "        YR2018        57792520.0            66.355  \n",
       "        YR2017        57009751.0            65.850  \n",
       "        YR2016        56207649.0            65.341  \n",
       "        YR2015        55386369.0            64.828  \n",
       "...                          ...               ...  \n",
       "ARG     YR1998        36063451.0            88.759  \n",
       "        YR1997        35657438.0            88.564  \n",
       "        YR1996        35246376.0            88.366  \n",
       "        YR1995        34828168.0            88.164  \n",
       "        YR1994        34402669.0            87.960  \n",
       "\n",
       "[1443 rows x 9 columns]"
      ]
     },
     "execution_count": 16,
     "metadata": {},
     "output_type": "execute_result"
    }
   ],
   "source": [
    "raw_dataset"
   ]
  },
  {
   "cell_type": "code",
   "execution_count": 17,
   "metadata": {},
   "outputs": [],
   "source": [
    "raw_dataset['CO2 per Capita'] = raw_dataset['CO2 emissions']/raw_dataset['Total Population']"
   ]
  },
  {
   "cell_type": "markdown",
   "metadata": {},
   "source": [
    "### Log Trasforming the data"
   ]
  },
  {
   "cell_type": "code",
   "execution_count": 18,
   "metadata": {},
   "outputs": [],
   "source": [
    "for col in [col for col in raw_dataset.columns[2:]]:\n",
    "    raw_dataset[col] = np.log10(raw_dataset[col] + 1)"
   ]
  },
  {
   "cell_type": "code",
   "execution_count": 19,
   "metadata": {},
   "outputs": [],
   "source": [
    "processed_df = raw_dataset"
   ]
  },
  {
   "cell_type": "markdown",
   "metadata": {},
   "source": [
    "## Exploratory Data Analysis"
   ]
  },
  {
   "cell_type": "markdown",
   "metadata": {},
   "source": [
    "### Data Summary\n"
   ]
  },
  {
   "cell_type": "code",
   "execution_count": 20,
   "metadata": {},
   "outputs": [
    {
     "data": {
      "text/html": [
       "<div>\n",
       "<style scoped>\n",
       "    .dataframe tbody tr th:only-of-type {\n",
       "        vertical-align: middle;\n",
       "    }\n",
       "\n",
       "    .dataframe tbody tr th {\n",
       "        vertical-align: top;\n",
       "    }\n",
       "\n",
       "    .dataframe thead th {\n",
       "        text-align: right;\n",
       "    }\n",
       "</style>\n",
       "<table border=\"1\" class=\"dataframe\">\n",
       "  <thead>\n",
       "    <tr style=\"text-align: right;\">\n",
       "      <th></th>\n",
       "      <th>Country</th>\n",
       "      <th>Time</th>\n",
       "      <th>Renewable energy consumption</th>\n",
       "      <th>CO2 emissions</th>\n",
       "      <th>Trade (% of GDP)</th>\n",
       "      <th>Perc Manufacturing Value Added</th>\n",
       "      <th>GDP per capita</th>\n",
       "      <th>Total Population</th>\n",
       "      <th>Urban Population</th>\n",
       "      <th>CO2 per Capita</th>\n",
       "    </tr>\n",
       "  </thead>\n",
       "  <tbody>\n",
       "    <tr>\n",
       "      <th>count</th>\n",
       "      <td>1443</td>\n",
       "      <td>1443</td>\n",
       "      <td>1443.000000</td>\n",
       "      <td>1443.000000</td>\n",
       "      <td>1443.000000</td>\n",
       "      <td>1443.000000</td>\n",
       "      <td>1443.000000</td>\n",
       "      <td>1443.000000</td>\n",
       "      <td>1443.000000</td>\n",
       "      <td>1443.000000</td>\n",
       "    </tr>\n",
       "    <tr>\n",
       "      <th>unique</th>\n",
       "      <td>56</td>\n",
       "      <td>26</td>\n",
       "      <td>NaN</td>\n",
       "      <td>NaN</td>\n",
       "      <td>NaN</td>\n",
       "      <td>NaN</td>\n",
       "      <td>NaN</td>\n",
       "      <td>NaN</td>\n",
       "      <td>NaN</td>\n",
       "      <td>NaN</td>\n",
       "    </tr>\n",
       "    <tr>\n",
       "      <th>top</th>\n",
       "      <td>South Africa</td>\n",
       "      <td>2019</td>\n",
       "      <td>NaN</td>\n",
       "      <td>NaN</td>\n",
       "      <td>NaN</td>\n",
       "      <td>NaN</td>\n",
       "      <td>NaN</td>\n",
       "      <td>NaN</td>\n",
       "      <td>NaN</td>\n",
       "      <td>NaN</td>\n",
       "    </tr>\n",
       "    <tr>\n",
       "      <th>freq</th>\n",
       "      <td>26</td>\n",
       "      <td>56</td>\n",
       "      <td>NaN</td>\n",
       "      <td>NaN</td>\n",
       "      <td>NaN</td>\n",
       "      <td>NaN</td>\n",
       "      <td>NaN</td>\n",
       "      <td>NaN</td>\n",
       "      <td>NaN</td>\n",
       "      <td>NaN</td>\n",
       "    </tr>\n",
       "    <tr>\n",
       "      <th>mean</th>\n",
       "      <td>NaN</td>\n",
       "      <td>NaN</td>\n",
       "      <td>1.115691</td>\n",
       "      <td>4.949772</td>\n",
       "      <td>1.863056</td>\n",
       "      <td>1.509789</td>\n",
       "      <td>11.571755</td>\n",
       "      <td>7.179238</td>\n",
       "      <td>1.853878</td>\n",
       "      <td>0.003108</td>\n",
       "    </tr>\n",
       "    <tr>\n",
       "      <th>std</th>\n",
       "      <td>NaN</td>\n",
       "      <td>NaN</td>\n",
       "      <td>0.391837</td>\n",
       "      <td>0.672622</td>\n",
       "      <td>0.218728</td>\n",
       "      <td>0.231886</td>\n",
       "      <td>0.640809</td>\n",
       "      <td>0.607142</td>\n",
       "      <td>0.090003</td>\n",
       "      <td>0.002062</td>\n",
       "    </tr>\n",
       "    <tr>\n",
       "      <th>min</th>\n",
       "      <td>NaN</td>\n",
       "      <td>NaN</td>\n",
       "      <td>0.123852</td>\n",
       "      <td>3.212454</td>\n",
       "      <td>1.158007</td>\n",
       "      <td>0.690589</td>\n",
       "      <td>9.954466</td>\n",
       "      <td>5.427273</td>\n",
       "      <td>1.475715</td>\n",
       "      <td>0.000323</td>\n",
       "    </tr>\n",
       "    <tr>\n",
       "      <th>25%</th>\n",
       "      <td>NaN</td>\n",
       "      <td>NaN</td>\n",
       "      <td>0.867761</td>\n",
       "      <td>4.583097</td>\n",
       "      <td>1.733932</td>\n",
       "      <td>1.405031</td>\n",
       "      <td>11.180345</td>\n",
       "      <td>6.721371</td>\n",
       "      <td>1.797787</td>\n",
       "      <td>0.001783</td>\n",
       "    </tr>\n",
       "    <tr>\n",
       "      <th>50%</th>\n",
       "      <td>NaN</td>\n",
       "      <td>NaN</td>\n",
       "      <td>1.148911</td>\n",
       "      <td>4.843239</td>\n",
       "      <td>1.866179</td>\n",
       "      <td>1.569113</td>\n",
       "      <td>11.572287</td>\n",
       "      <td>7.035915</td>\n",
       "      <td>1.872180</td>\n",
       "      <td>0.002858</td>\n",
       "    </tr>\n",
       "    <tr>\n",
       "      <th>75%</th>\n",
       "      <td>NaN</td>\n",
       "      <td>NaN</td>\n",
       "      <td>1.445530</td>\n",
       "      <td>5.525500</td>\n",
       "      <td>2.014420</td>\n",
       "      <td>1.674872</td>\n",
       "      <td>12.087101</td>\n",
       "      <td>7.675878</td>\n",
       "      <td>1.916499</td>\n",
       "      <td>0.003929</td>\n",
       "    </tr>\n",
       "    <tr>\n",
       "      <th>max</th>\n",
       "      <td>NaN</td>\n",
       "      <td>NaN</td>\n",
       "      <td>1.802568</td>\n",
       "      <td>6.580932</td>\n",
       "      <td>2.358700</td>\n",
       "      <td>1.924619</td>\n",
       "      <td>12.960968</td>\n",
       "      <td>8.516311</td>\n",
       "      <td>2.004321</td>\n",
       "      <td>0.020694</td>\n",
       "    </tr>\n",
       "  </tbody>\n",
       "</table>\n",
       "</div>"
      ],
      "text/plain": [
       "             Country  Time  Renewable energy consumption  CO2 emissions  \\\n",
       "count           1443  1443                   1443.000000    1443.000000   \n",
       "unique            56    26                           NaN            NaN   \n",
       "top     South Africa  2019                           NaN            NaN   \n",
       "freq              26    56                           NaN            NaN   \n",
       "mean             NaN   NaN                      1.115691       4.949772   \n",
       "std              NaN   NaN                      0.391837       0.672622   \n",
       "min              NaN   NaN                      0.123852       3.212454   \n",
       "25%              NaN   NaN                      0.867761       4.583097   \n",
       "50%              NaN   NaN                      1.148911       4.843239   \n",
       "75%              NaN   NaN                      1.445530       5.525500   \n",
       "max              NaN   NaN                      1.802568       6.580932   \n",
       "\n",
       "        Trade (% of GDP)  Perc Manufacturing Value Added  GDP per capita  \\\n",
       "count        1443.000000                     1443.000000     1443.000000   \n",
       "unique               NaN                             NaN             NaN   \n",
       "top                  NaN                             NaN             NaN   \n",
       "freq                 NaN                             NaN             NaN   \n",
       "mean            1.863056                        1.509789       11.571755   \n",
       "std             0.218728                        0.231886        0.640809   \n",
       "min             1.158007                        0.690589        9.954466   \n",
       "25%             1.733932                        1.405031       11.180345   \n",
       "50%             1.866179                        1.569113       11.572287   \n",
       "75%             2.014420                        1.674872       12.087101   \n",
       "max             2.358700                        1.924619       12.960968   \n",
       "\n",
       "        Total Population  Urban Population  CO2 per Capita  \n",
       "count        1443.000000       1443.000000     1443.000000  \n",
       "unique               NaN               NaN             NaN  \n",
       "top                  NaN               NaN             NaN  \n",
       "freq                 NaN               NaN             NaN  \n",
       "mean            7.179238          1.853878        0.003108  \n",
       "std             0.607142          0.090003        0.002062  \n",
       "min             5.427273          1.475715        0.000323  \n",
       "25%             6.721371          1.797787        0.001783  \n",
       "50%             7.035915          1.872180        0.002858  \n",
       "75%             7.675878          1.916499        0.003929  \n",
       "max             8.516311          2.004321        0.020694  "
      ]
     },
     "execution_count": 20,
     "metadata": {},
     "output_type": "execute_result"
    }
   ],
   "source": [
    "processed_df.describe(include='all')"
   ]
  },
  {
   "cell_type": "code",
   "execution_count": 21,
   "metadata": {},
   "outputs": [
    {
     "data": {
      "image/png": "[encoded data removed]",
      "text/plain": [
       "<Figure size 1800x1500 with 9 Axes>"
      ]
     },
     "metadata": {},
     "output_type": "display_data"
    }
   ],
   "source": [
    "%matplotlib inline\n",
    "\n",
    "n_rows=3\n",
    "n_cols=3\n",
    "# Create the subplots\n",
    "fig, axes = plt.subplots(nrows=n_rows, ncols=n_cols, figsize = (18,15))\n",
    "\n",
    "colors = {0:'green',1:'red',2:'yellow',3:'blue',4:'orange',5:'pink',6:'brown',7:'gray'}\n",
    "\n",
    "for i, column in enumerate(processed_df.columns[2:]):\n",
    "     seas.distplot(processed_df[column],color= colors[i],ax=axes[i//n_cols,i%n_cols])"
   ]
  },
  {
   "cell_type": "markdown",
   "metadata": {},
   "source": [
    "### Pair Plots"
   ]
  },
  {
   "cell_type": "code",
   "execution_count": 22,
   "metadata": {},
   "outputs": [],
   "source": [
    "\n",
    "#seas.pairplot(data=processed_df,  hue='Country',palette=\"Set1\")\n"
   ]
  },
  {
   "cell_type": "code",
   "execution_count": 23,
   "metadata": {},
   "outputs": [],
   "source": [
    "#seas.pairplot(data=processed_df,  hue='Time',palette=\"Set1\")\n"
   ]
  },
  {
   "cell_type": "markdown",
   "metadata": {},
   "source": [
    "## Data Spliting"
   ]
  },
  {
   "cell_type": "code",
   "execution_count": 24,
   "metadata": {},
   "outputs": [],
   "source": [
    "X = processed_df[['Renewable energy consumption','Trade (% of GDP)','Perc Manufacturing Value Added','GDP per capita','Urban Population']]\n",
    "y = processed_df['CO2 per Capita']\n",
    "  \n",
    "# using the train test split function\n",
    "X_train, X_test,y_train, y_test = train_test_split(X,y ,\n",
    "                                   random_state=104, \n",
    "                                   test_size=0.20, \n",
    "                                   shuffle=True)\n"
   ]
  },
  {
   "cell_type": "markdown",
   "metadata": {},
   "source": [
    "## Modeling"
   ]
  },
  {
   "cell_type": "markdown",
   "metadata": {},
   "source": [
    "### Mixed Effects Random Forest model.  - `y=f(X)+biZ+e`\n",
    "\n",
    "* y is the target variable. The current code only supports regression for now, e.g. continuously varying scalar value\n",
    "* X is the fixed effect features. Assume p dimensional\n",
    "* f(.) is the nonlinear fixed effects mode, e.g. random forest\n",
    "* Z is the random effect features. Assume q dimensional.\n",
    "* e is iid noise ~N(0, sigma_e²)\n",
    "* i is the cluster index. Assume k clusters in the training.\n",
    "* bi is the random effect coefficients. They are different per cluster i but are assumed to be drawn from the same distribution ~N(0, Sigma_b) where Sigma_b is learned from the data."
   ]
  },
  {
   "cell_type": "markdown",
   "metadata": {},
   "source": [
    "### MERF Package\n",
    "\n",
    "**Parameters**\n",
    "\n",
    "* X (np.ndarray) – fixed effect covariates\n",
    "* Z (np.ndarray) – random effect covariates\n",
    "* clusters (pd.Series) – cluster assignments for samples\n",
    "* y (np.ndarray) – response/target variable"
   ]
  },
  {
   "cell_type": "markdown",
   "metadata": {},
   "source": [
    "A lot of data out there has a clustered structure. The most typical example is longitudinal clustering, which occurs when there are many measurements per individual of a phenomenon to be modeled. Assume we wish to model math test scores as a function of sleep parameters, but each student has many measures. The unique student in this situation is a cluster. We employed the MERF model for this project to predict the CO2 per capita values, clustering the 56 countries we have."
   ]
  },
  {
   "attachments": {},
   "cell_type": "markdown",
   "metadata": {},
   "source": [
    "## Hyperparameter Tuning"
   ]
  },
  {
   "attachments": {},
   "cell_type": "markdown",
   "metadata": {},
   "source": [
    "### We will use 2 techniques for hyperparameter tuning - Random Search and Gird Search. In grid search, we define the combinations and do training of the model, whereas in RandomizedSearchCV the model selects the combinations randomly."
   ]
  },
  {
   "cell_type": "code",
   "execution_count": 25,
   "metadata": {},
   "outputs": [],
   "source": [
    "def evaluate(model, X_test, y_train):\n",
    "    predictions = model.predict(X_test)\n",
    "    errors = abs(predictions - y_train)\n",
    "    mape = 100 * np.mean(errors / y_train)\n",
    "    accuracy = 100 - mape\n",
    "    print('Model Performance')\n",
    "    print('Average Error: {:0.4f} degrees.'.format(np.mean(errors)))\n",
    "    print('Accuracy: {:0.2f}%.'.format(accuracy))\n",
    "    print('Mean Absolute Percentage Error (MAPE): {:0.2f}'.format(mape))"
   ]
  },
  {
   "attachments": {},
   "cell_type": "markdown",
   "metadata": {},
   "source": [
    "### RandomizedSearchCV "
   ]
  },
  {
   "cell_type": "code",
   "execution_count": 26,
   "metadata": {},
   "outputs": [],
   "source": [
    "n_estimators = [int(x) for x in np.linspace(start = 200, stop = 2000, num = 10)] # <- Number of trees in random forest\n",
    "max_features = ['auto', 'sqrt'] # <- Number of features to consider at every split\n",
    "max_depth = [int(x) for x in np.linspace(10, 110, num = 11)] # <-  Maximum number of levels in tree\n",
    "max_depth.append(None)\n",
    "min_samples_split = [2, 5, 10] # <- Minimum number of samples required to split a node\n",
    "min_samples_leaf = [1, 2, 4] # <- Minimum number of samples required at each leaf node\n",
    "bootstrap = [True, False] # <- Method of selecting samples for training each tree\n",
    "\n",
    "# Create the random grid\n",
    "random_grid = {'n_estimators': n_estimators,\n",
    "               'max_features': max_features,\n",
    "               'max_depth': max_depth,\n",
    "               'min_samples_split': min_samples_split,\n",
    "               'min_samples_leaf': min_samples_leaf,\n",
    "               'bootstrap': bootstrap}"
   ]
  },
  {
   "attachments": {},
   "cell_type": "markdown",
   "metadata": {},
   "source": [
    "### Combinations to try for Hyperparameter Tuning"
   ]
  },
  {
   "cell_type": "code",
   "execution_count": 27,
   "metadata": {},
   "outputs": [
    {
     "data": {
      "text/plain": [
       "{'n_estimators': [200, 400, 600, 800, 1000, 1200, 1400, 1600, 1800, 2000],\n",
       " 'max_features': ['auto', 'sqrt'],\n",
       " 'max_depth': [10, 20, 30, 40, 50, 60, 70, 80, 90, 100, 110, None],\n",
       " 'min_samples_split': [2, 5, 10],\n",
       " 'min_samples_leaf': [1, 2, 4],\n",
       " 'bootstrap': [True, False]}"
      ]
     },
     "execution_count": 27,
     "metadata": {},
     "output_type": "execute_result"
    }
   ],
   "source": [
    "random_grid"
   ]
  },
  {
   "cell_type": "code",
   "execution_count": 28,
   "metadata": {},
   "outputs": [
    {
     "name": "stdout",
     "output_type": "stream",
     "text": [
      "Fitting 5 folds for each of 100 candidates, totalling 500 fits\n"
     ]
    },
    {
     "data": {
      "text/html": [
       "<style>#sk-container-id-1 {color: black;background-color: white;}#sk-container-id-1 pre{padding: 0;}#sk-container-id-1 div.sk-toggleable {background-color: white;}#sk-container-id-1 label.sk-toggleable__label {cursor: pointer;display: block;width: 100%;margin-bottom: 0;padding: 0.3em;box-sizing: border-box;text-align: center;}#sk-container-id-1 label.sk-toggleable__label-arrow:before {content: \"▸\";float: left;margin-right: 0.25em;color: #696969;}#sk-container-id-1 label.sk-toggleable__label-arrow:hover:before {color: black;}#sk-container-id-1 div.sk-estimator:hover label.sk-toggleable__label-arrow:before {color: black;}#sk-container-id-1 div.sk-toggleable__content {max-height: 0;max-width: 0;overflow: hidden;text-align: left;background-color: #f0f8ff;}#sk-container-id-1 div.sk-toggleable__content pre {margin: 0.2em;color: black;border-radius: 0.25em;background-color: #f0f8ff;}#sk-container-id-1 input.sk-toggleable__control:checked~div.sk-toggleable__content {max-height: 200px;max-width: 100%;overflow: auto;}#sk-container-id-1 input.sk-toggleable__control:checked~label.sk-toggleable__label-arrow:before {content: \"▾\";}#sk-container-id-1 div.sk-estimator input.sk-toggleable__control:checked~label.sk-toggleable__label {background-color: #d4ebff;}#sk-container-id-1 div.sk-label input.sk-toggleable__control:checked~label.sk-toggleable__label {background-color: #d4ebff;}#sk-container-id-1 input.sk-hidden--visually {border: 0;clip: rect(1px 1px 1px 1px);clip: rect(1px, 1px, 1px, 1px);height: 1px;margin: -1px;overflow: hidden;padding: 0;position: absolute;width: 1px;}#sk-container-id-1 div.sk-estimator {font-family: monospace;background-color: #f0f8ff;border: 1px dotted black;border-radius: 0.25em;box-sizing: border-box;margin-bottom: 0.5em;}#sk-container-id-1 div.sk-estimator:hover {background-color: #d4ebff;}#sk-container-id-1 div.sk-parallel-item::after {content: \"\";width: 100%;border-bottom: 1px solid gray;flex-grow: 1;}#sk-container-id-1 div.sk-label:hover label.sk-toggleable__label {background-color: #d4ebff;}#sk-container-id-1 div.sk-serial::before {content: \"\";position: absolute;border-left: 1px solid gray;box-sizing: border-box;top: 0;bottom: 0;left: 50%;z-index: 0;}#sk-container-id-1 div.sk-serial {display: flex;flex-direction: column;align-items: center;background-color: white;padding-right: 0.2em;padding-left: 0.2em;position: relative;}#sk-container-id-1 div.sk-item {position: relative;z-index: 1;}#sk-container-id-1 div.sk-parallel {display: flex;align-items: stretch;justify-content: center;background-color: white;position: relative;}#sk-container-id-1 div.sk-item::before, #sk-container-id-1 div.sk-parallel-item::before {content: \"\";position: absolute;border-left: 1px solid gray;box-sizing: border-box;top: 0;bottom: 0;left: 50%;z-index: -1;}#sk-container-id-1 div.sk-parallel-item {display: flex;flex-direction: column;z-index: 1;position: relative;background-color: white;}#sk-container-id-1 div.sk-parallel-item:first-child::after {align-self: flex-end;width: 50%;}#sk-container-id-1 div.sk-parallel-item:last-child::after {align-self: flex-start;width: 50%;}#sk-container-id-1 div.sk-parallel-item:only-child::after {width: 0;}#sk-container-id-1 div.sk-dashed-wrapped {border: 1px dashed gray;margin: 0 0.4em 0.5em 0.4em;box-sizing: border-box;padding-bottom: 0.4em;background-color: white;}#sk-container-id-1 div.sk-label label {font-family: monospace;font-weight: bold;display: inline-block;line-height: 1.2em;}#sk-container-id-1 div.sk-label-container {text-align: center;}#sk-container-id-1 div.sk-container {/* jupyter's `normalize.less` sets `[hidden] { display: none; }` but bootstrap.min.css set `[hidden] { display: none !important; }` so we also need the `!important` here to be able to override the default hidden behavior on the sphinx rendered scikit-learn.org. See: https://github.com/scikit-learn/scikit-learn/issues/21755 */display: inline-block !important;position: relative;}#sk-container-id-1 div.sk-text-repr-fallback {display: none;}</style><div id=\"sk-container-id-1\" class=\"sk-top-container\"><div class=\"sk-text-repr-fallback\"><pre>RandomizedSearchCV(cv=5, estimator=RandomForestRegressor(), n_iter=100,\n",
       "                   n_jobs=-1,\n",
       "                   param_distributions={&#x27;bootstrap&#x27;: [True, False],\n",
       "                                        &#x27;max_depth&#x27;: [10, 20, 30, 40, 50, 60,\n",
       "                                                      70, 80, 90, 100, 110,\n",
       "                                                      None],\n",
       "                                        &#x27;max_features&#x27;: [&#x27;auto&#x27;, &#x27;sqrt&#x27;],\n",
       "                                        &#x27;min_samples_leaf&#x27;: [1, 2, 4],\n",
       "                                        &#x27;min_samples_split&#x27;: [2, 5, 10],\n",
       "                                        &#x27;n_estimators&#x27;: [200, 400, 600, 800,\n",
       "                                                         1000, 1200, 1400, 1600,\n",
       "                                                         1800, 2000]},\n",
       "                   random_state=42, verbose=2)</pre><b>In a Jupyter environment, please rerun this cell to show the HTML representation or trust the notebook. <br />On GitHub, the HTML representation is unable to render, please try loading this page with nbviewer.org.</b></div><div class=\"sk-container\" hidden><div class=\"sk-item sk-dashed-wrapped\"><div class=\"sk-label-container\"><div class=\"sk-label sk-toggleable\"><input class=\"sk-toggleable__control sk-hidden--visually\" id=\"sk-estimator-id-1\" type=\"checkbox\" ><label for=\"sk-estimator-id-1\" class=\"sk-toggleable__label sk-toggleable__label-arrow\">RandomizedSearchCV</label><div class=\"sk-toggleable__content\"><pre>RandomizedSearchCV(cv=5, estimator=RandomForestRegressor(), n_iter=100,\n",
       "                   n_jobs=-1,\n",
       "                   param_distributions={&#x27;bootstrap&#x27;: [True, False],\n",
       "                                        &#x27;max_depth&#x27;: [10, 20, 30, 40, 50, 60,\n",
       "                                                      70, 80, 90, 100, 110,\n",
       "                                                      None],\n",
       "                                        &#x27;max_features&#x27;: [&#x27;auto&#x27;, &#x27;sqrt&#x27;],\n",
       "                                        &#x27;min_samples_leaf&#x27;: [1, 2, 4],\n",
       "                                        &#x27;min_samples_split&#x27;: [2, 5, 10],\n",
       "                                        &#x27;n_estimators&#x27;: [200, 400, 600, 800,\n",
       "                                                         1000, 1200, 1400, 1600,\n",
       "                                                         1800, 2000]},\n",
       "                   random_state=42, verbose=2)</pre></div></div></div><div class=\"sk-parallel\"><div class=\"sk-parallel-item\"><div class=\"sk-item\"><div class=\"sk-label-container\"><div class=\"sk-label sk-toggleable\"><input class=\"sk-toggleable__control sk-hidden--visually\" id=\"sk-estimator-id-2\" type=\"checkbox\" ><label for=\"sk-estimator-id-2\" class=\"sk-toggleable__label sk-toggleable__label-arrow\">estimator: RandomForestRegressor</label><div class=\"sk-toggleable__content\"><pre>RandomForestRegressor()</pre></div></div></div><div class=\"sk-serial\"><div class=\"sk-item\"><div class=\"sk-estimator sk-toggleable\"><input class=\"sk-toggleable__control sk-hidden--visually\" id=\"sk-estimator-id-3\" type=\"checkbox\" ><label for=\"sk-estimator-id-3\" class=\"sk-toggleable__label sk-toggleable__label-arrow\">RandomForestRegressor</label><div class=\"sk-toggleable__content\"><pre>RandomForestRegressor()</pre></div></div></div></div></div></div></div></div></div></div>"
      ],
      "text/plain": [
       "RandomizedSearchCV(cv=5, estimator=RandomForestRegressor(), n_iter=100,\n",
       "                   n_jobs=-1,\n",
       "                   param_distributions={'bootstrap': [True, False],\n",
       "                                        'max_depth': [10, 20, 30, 40, 50, 60,\n",
       "                                                      70, 80, 90, 100, 110,\n",
       "                                                      None],\n",
       "                                        'max_features': ['auto', 'sqrt'],\n",
       "                                        'min_samples_leaf': [1, 2, 4],\n",
       "                                        'min_samples_split': [2, 5, 10],\n",
       "                                        'n_estimators': [200, 400, 600, 800,\n",
       "                                                         1000, 1200, 1400, 1600,\n",
       "                                                         1800, 2000]},\n",
       "                   random_state=42, verbose=2)"
      ]
     },
     "execution_count": 28,
     "metadata": {},
     "output_type": "execute_result"
    }
   ],
   "source": [
    "# Use the random grid to search for best hyperparameters\n",
    "# First create the base model to tune\n",
    "rf = RandomForestRegressor()\n",
    "# Random search of parameters, using 5 fold cross validation, \n",
    "# search across 100 different combinations, and use all available cores\n",
    "rf_random = RandomizedSearchCV(estimator = rf, param_distributions = random_grid, n_iter = 100, cv = 5, verbose=2, random_state=42, n_jobs = -1)\n",
    "# Fit the random search model\n",
    "rf_random.fit(X_train, y_train)"
   ]
  },
  {
   "attachments": {},
   "cell_type": "markdown",
   "metadata": {},
   "source": [
    "### Random Search Best Parameters"
   ]
  },
  {
   "attachments": {},
   "cell_type": "markdown",
   "metadata": {},
   "source": [
    "#### Mean cross-validated score of the best estimator"
   ]
  },
  {
   "cell_type": "code",
   "execution_count": 29,
   "metadata": {},
   "outputs": [
    {
     "name": "stdout",
     "output_type": "stream",
     "text": [
      "The best score is : 91.28%\n"
     ]
    }
   ],
   "source": [
    "print ('The best score is : {}%'.format(round(rf_random.best_score_*100.0, 2)))"
   ]
  },
  {
   "cell_type": "code",
   "execution_count": 30,
   "metadata": {},
   "outputs": [
    {
     "data": {
      "text/plain": [
       "{'n_estimators': 800,\n",
       " 'min_samples_split': 2,\n",
       " 'min_samples_leaf': 1,\n",
       " 'max_features': 'auto',\n",
       " 'max_depth': 100,\n",
       " 'bootstrap': True}"
      ]
     },
     "execution_count": 30,
     "metadata": {},
     "output_type": "execute_result"
    }
   ],
   "source": [
    "rf_random.best_params_\n"
   ]
  },
  {
   "attachments": {},
   "cell_type": "markdown",
   "metadata": {},
   "source": [
    "### Evaluation of base vs best RF Model"
   ]
  },
  {
   "attachments": {},
   "cell_type": "markdown",
   "metadata": {},
   "source": [
    "#### Base Model Evaluation"
   ]
  },
  {
   "cell_type": "code",
   "execution_count": 31,
   "metadata": {},
   "outputs": [
    {
     "name": "stdout",
     "output_type": "stream",
     "text": [
      "Model Performance\n",
      "Average Error: 0.0003 degrees.\n",
      "Accuracy: 87.90%.\n",
      "Mean Absolute Percentage Error (MAPE): 12.10\n"
     ]
    }
   ],
   "source": [
    "base_rf_model = RandomForestRegressor(n_estimators = 10, random_state = 42)\n",
    "base_rf_model.fit(X_train, y_train)\n",
    "base_accuracy = evaluate(base_rf_model, X_test, y_test)"
   ]
  },
  {
   "attachments": {},
   "cell_type": "markdown",
   "metadata": {},
   "source": [
    "#### Best Random Search Model Evaluation"
   ]
  },
  {
   "cell_type": "code",
   "execution_count": 32,
   "metadata": {},
   "outputs": [
    {
     "name": "stdout",
     "output_type": "stream",
     "text": [
      "Model Performance\n",
      "Average Error: 0.0003 degrees.\n",
      "Accuracy: 89.53%.\n",
      "Mean Absolute Percentage Error (MAPE): 10.47\n"
     ]
    }
   ],
   "source": [
    "best_random = rf_random.best_estimator_\n",
    "random_accuracy = evaluate(best_random, X_test, y_test)"
   ]
  },
  {
   "attachments": {},
   "cell_type": "markdown",
   "metadata": {},
   "source": [
    "### GridSearchCV"
   ]
  },
  {
   "cell_type": "code",
   "execution_count": 33,
   "metadata": {},
   "outputs": [],
   "source": [
    "# Create the parameter grid based on the results of random search \n",
    "param_grid = {\n",
    "      'bootstrap': [True],\n",
    "    'max_depth': [80, 90, 100, 110, None],\n",
    "    'max_features': [2, 3],\n",
    "    'min_samples_leaf': [1, 2, 4],\n",
    "    'min_samples_split': [2, 4, 6, 8],\n",
    "    'n_estimators': [600, 800, 1000, 1200, 1400]\n",
    "    }\n",
    "\n",
    "# Create a base model\n",
    "rf = RandomForestRegressor(random_state = 42)\n",
    "\n",
    "# Instantiate the grid search model\n",
    "grid_search = GridSearchCV(estimator = rf, param_grid = param_grid, \n",
    "                          cv = 5, n_jobs = -1, verbose = 2, return_train_score=True)"
   ]
  },
  {
   "cell_type": "code",
   "execution_count": 34,
   "metadata": {},
   "outputs": [
    {
     "name": "stdout",
     "output_type": "stream",
     "text": [
      "Fitting 5 folds for each of 600 candidates, totalling 3000 fits\n"
     ]
    },
    {
     "data": {
      "text/html": [
       "<style>#sk-container-id-2 {color: black;background-color: white;}#sk-container-id-2 pre{padding: 0;}#sk-container-id-2 div.sk-toggleable {background-color: white;}#sk-container-id-2 label.sk-toggleable__label {cursor: pointer;display: block;width: 100%;margin-bottom: 0;padding: 0.3em;box-sizing: border-box;text-align: center;}#sk-container-id-2 label.sk-toggleable__label-arrow:before {content: \"▸\";float: left;margin-right: 0.25em;color: #696969;}#sk-container-id-2 label.sk-toggleable__label-arrow:hover:before {color: black;}#sk-container-id-2 div.sk-estimator:hover label.sk-toggleable__label-arrow:before {color: black;}#sk-container-id-2 div.sk-toggleable__content {max-height: 0;max-width: 0;overflow: hidden;text-align: left;background-color: #f0f8ff;}#sk-container-id-2 div.sk-toggleable__content pre {margin: 0.2em;color: black;border-radius: 0.25em;background-color: #f0f8ff;}#sk-container-id-2 input.sk-toggleable__control:checked~div.sk-toggleable__content {max-height: 200px;max-width: 100%;overflow: auto;}#sk-container-id-2 input.sk-toggleable__control:checked~label.sk-toggleable__label-arrow:before {content: \"▾\";}#sk-container-id-2 div.sk-estimator input.sk-toggleable__control:checked~label.sk-toggleable__label {background-color: #d4ebff;}#sk-container-id-2 div.sk-label input.sk-toggleable__control:checked~label.sk-toggleable__label {background-color: #d4ebff;}#sk-container-id-2 input.sk-hidden--visually {border: 0;clip: rect(1px 1px 1px 1px);clip: rect(1px, 1px, 1px, 1px);height: 1px;margin: -1px;overflow: hidden;padding: 0;position: absolute;width: 1px;}#sk-container-id-2 div.sk-estimator {font-family: monospace;background-color: #f0f8ff;border: 1px dotted black;border-radius: 0.25em;box-sizing: border-box;margin-bottom: 0.5em;}#sk-container-id-2 div.sk-estimator:hover {background-color: #d4ebff;}#sk-container-id-2 div.sk-parallel-item::after {content: \"\";width: 100%;border-bottom: 1px solid gray;flex-grow: 1;}#sk-container-id-2 div.sk-label:hover label.sk-toggleable__label {background-color: #d4ebff;}#sk-container-id-2 div.sk-serial::before {content: \"\";position: absolute;border-left: 1px solid gray;box-sizing: border-box;top: 0;bottom: 0;left: 50%;z-index: 0;}#sk-container-id-2 div.sk-serial {display: flex;flex-direction: column;align-items: center;background-color: white;padding-right: 0.2em;padding-left: 0.2em;position: relative;}#sk-container-id-2 div.sk-item {position: relative;z-index: 1;}#sk-container-id-2 div.sk-parallel {display: flex;align-items: stretch;justify-content: center;background-color: white;position: relative;}#sk-container-id-2 div.sk-item::before, #sk-container-id-2 div.sk-parallel-item::before {content: \"\";position: absolute;border-left: 1px solid gray;box-sizing: border-box;top: 0;bottom: 0;left: 50%;z-index: -1;}#sk-container-id-2 div.sk-parallel-item {display: flex;flex-direction: column;z-index: 1;position: relative;background-color: white;}#sk-container-id-2 div.sk-parallel-item:first-child::after {align-self: flex-end;width: 50%;}#sk-container-id-2 div.sk-parallel-item:last-child::after {align-self: flex-start;width: 50%;}#sk-container-id-2 div.sk-parallel-item:only-child::after {width: 0;}#sk-container-id-2 div.sk-dashed-wrapped {border: 1px dashed gray;margin: 0 0.4em 0.5em 0.4em;box-sizing: border-box;padding-bottom: 0.4em;background-color: white;}#sk-container-id-2 div.sk-label label {font-family: monospace;font-weight: bold;display: inline-block;line-height: 1.2em;}#sk-container-id-2 div.sk-label-container {text-align: center;}#sk-container-id-2 div.sk-container {/* jupyter's `normalize.less` sets `[hidden] { display: none; }` but bootstrap.min.css set `[hidden] { display: none !important; }` so we also need the `!important` here to be able to override the default hidden behavior on the sphinx rendered scikit-learn.org. See: https://github.com/scikit-learn/scikit-learn/issues/21755 */display: inline-block !important;position: relative;}#sk-container-id-2 div.sk-text-repr-fallback {display: none;}</style><div id=\"sk-container-id-2\" class=\"sk-top-container\"><div class=\"sk-text-repr-fallback\"><pre>GridSearchCV(cv=5, estimator=RandomForestRegressor(random_state=42), n_jobs=-1,\n",
       "             param_grid={&#x27;bootstrap&#x27;: [True],\n",
       "                         &#x27;max_depth&#x27;: [80, 90, 100, 110, None],\n",
       "                         &#x27;max_features&#x27;: [2, 3], &#x27;min_samples_leaf&#x27;: [1, 2, 4],\n",
       "                         &#x27;min_samples_split&#x27;: [2, 4, 6, 8],\n",
       "                         &#x27;n_estimators&#x27;: [600, 800, 1000, 1200, 1400]},\n",
       "             return_train_score=True, verbose=2)</pre><b>In a Jupyter environment, please rerun this cell to show the HTML representation or trust the notebook. <br />On GitHub, the HTML representation is unable to render, please try loading this page with nbviewer.org.</b></div><div class=\"sk-container\" hidden><div class=\"sk-item sk-dashed-wrapped\"><div class=\"sk-label-container\"><div class=\"sk-label sk-toggleable\"><input class=\"sk-toggleable__control sk-hidden--visually\" id=\"sk-estimator-id-4\" type=\"checkbox\" ><label for=\"sk-estimator-id-4\" class=\"sk-toggleable__label sk-toggleable__label-arrow\">GridSearchCV</label><div class=\"sk-toggleable__content\"><pre>GridSearchCV(cv=5, estimator=RandomForestRegressor(random_state=42), n_jobs=-1,\n",
       "             param_grid={&#x27;bootstrap&#x27;: [True],\n",
       "                         &#x27;max_depth&#x27;: [80, 90, 100, 110, None],\n",
       "                         &#x27;max_features&#x27;: [2, 3], &#x27;min_samples_leaf&#x27;: [1, 2, 4],\n",
       "                         &#x27;min_samples_split&#x27;: [2, 4, 6, 8],\n",
       "                         &#x27;n_estimators&#x27;: [600, 800, 1000, 1200, 1400]},\n",
       "             return_train_score=True, verbose=2)</pre></div></div></div><div class=\"sk-parallel\"><div class=\"sk-parallel-item\"><div class=\"sk-item\"><div class=\"sk-label-container\"><div class=\"sk-label sk-toggleable\"><input class=\"sk-toggleable__control sk-hidden--visually\" id=\"sk-estimator-id-5\" type=\"checkbox\" ><label for=\"sk-estimator-id-5\" class=\"sk-toggleable__label sk-toggleable__label-arrow\">estimator: RandomForestRegressor</label><div class=\"sk-toggleable__content\"><pre>RandomForestRegressor(random_state=42)</pre></div></div></div><div class=\"sk-serial\"><div class=\"sk-item\"><div class=\"sk-estimator sk-toggleable\"><input class=\"sk-toggleable__control sk-hidden--visually\" id=\"sk-estimator-id-6\" type=\"checkbox\" ><label for=\"sk-estimator-id-6\" class=\"sk-toggleable__label sk-toggleable__label-arrow\">RandomForestRegressor</label><div class=\"sk-toggleable__content\"><pre>RandomForestRegressor(random_state=42)</pre></div></div></div></div></div></div></div></div></div></div>"
      ],
      "text/plain": [
       "GridSearchCV(cv=5, estimator=RandomForestRegressor(random_state=42), n_jobs=-1,\n",
       "             param_grid={'bootstrap': [True],\n",
       "                         'max_depth': [80, 90, 100, 110, None],\n",
       "                         'max_features': [2, 3], 'min_samples_leaf': [1, 2, 4],\n",
       "                         'min_samples_split': [2, 4, 6, 8],\n",
       "                         'n_estimators': [600, 800, 1000, 1200, 1400]},\n",
       "             return_train_score=True, verbose=2)"
      ]
     },
     "execution_count": 34,
     "metadata": {},
     "output_type": "execute_result"
    }
   ],
   "source": [
    "grid_search.fit(X_train, y_train)"
   ]
  },
  {
   "attachments": {},
   "cell_type": "markdown",
   "metadata": {},
   "source": [
    "### Gird Search Best Parameters"
   ]
  },
  {
   "attachments": {},
   "cell_type": "markdown",
   "metadata": {},
   "source": [
    "#### Mean cross-validated score of the best estimator"
   ]
  },
  {
   "cell_type": "code",
   "execution_count": 35,
   "metadata": {},
   "outputs": [
    {
     "name": "stdout",
     "output_type": "stream",
     "text": [
      "The best score is : 90.98%\n"
     ]
    }
   ],
   "source": [
    "print ('The best score is : {}%'.format(round(grid_search.best_score_*100.0, 2)))"
   ]
  },
  {
   "cell_type": "code",
   "execution_count": 36,
   "metadata": {},
   "outputs": [
    {
     "data": {
      "text/plain": [
       "{'bootstrap': True,\n",
       " 'max_depth': 80,\n",
       " 'max_features': 3,\n",
       " 'min_samples_leaf': 1,\n",
       " 'min_samples_split': 2,\n",
       " 'n_estimators': 1000}"
      ]
     },
     "execution_count": 36,
     "metadata": {},
     "output_type": "execute_result"
    }
   ],
   "source": [
    "grid_search.best_params_"
   ]
  },
  {
   "attachments": {},
   "cell_type": "markdown",
   "metadata": {},
   "source": [
    "#### Best Grid Search Model Evaluation"
   ]
  },
  {
   "cell_type": "code",
   "execution_count": 37,
   "metadata": {},
   "outputs": [
    {
     "name": "stdout",
     "output_type": "stream",
     "text": [
      "Model Performance\n",
      "Average Error: 0.0003 degrees.\n",
      "Accuracy: 88.13%.\n",
      "Mean Absolute Percentage Error (MAPE): 11.87\n"
     ]
    }
   ],
   "source": [
    "best_grid = grid_search.best_estimator_\n",
    "grid_accuracy = evaluate(best_grid, X_test, y_test) "
   ]
  },
  {
   "attachments": {},
   "cell_type": "markdown",
   "metadata": {},
   "source": [
    "## Time as Fixed Effect"
   ]
  },
  {
   "attachments": {},
   "cell_type": "markdown",
   "metadata": {},
   "source": [
    "### Base Model"
   ]
  },
  {
   "cell_type": "code",
   "execution_count": 40,
   "metadata": {},
   "outputs": [
    {
     "name": "stderr",
     "output_type": "stream",
     "text": [
      "INFO     [merf.py:307] Training GLL is -3500.8937758564266 at iteration 1.\n",
      "INFO     [merf.py:307] Training GLL is -6262.505126724234 at iteration 2.\n",
      "INFO     [merf.py:307] Training GLL is -8753.831257856462 at iteration 3.\n",
      "INFO     [merf.py:307] Training GLL is -11121.516185638802 at iteration 4.\n",
      "INFO     [merf.py:307] Training GLL is -13413.885918627893 at iteration 5.\n",
      "INFO     [merf.py:307] Training GLL is -15631.551659156252 at iteration 6.\n",
      "INFO     [merf.py:307] Training GLL is -17689.74026522214 at iteration 7.\n",
      "INFO     [merf.py:307] Training GLL is -19296.81850019127 at iteration 8.\n",
      "INFO     [merf.py:307] Training GLL is -20143.170826857455 at iteration 9.\n",
      "INFO     [merf.py:307] Training GLL is -20472.64046042201 at iteration 10.\n",
      "INFO     [merf.py:307] Training GLL is -20625.396123024417 at iteration 11.\n",
      "INFO     [merf.py:307] Training GLL is -20715.425555019163 at iteration 12.\n",
      "INFO     [merf.py:307] Training GLL is -20774.817747968646 at iteration 13.\n",
      "INFO     [merf.py:307] Training GLL is -20816.85756641963 at iteration 14.\n",
      "INFO     [merf.py:307] Training GLL is -20848.052439788462 at iteration 15.\n",
      "INFO     [merf.py:307] Training GLL is -20872.322822123984 at iteration 16.\n",
      "INFO     [merf.py:307] Training GLL is -20891.90570633594 at iteration 17.\n",
      "INFO     [merf.py:307] Training GLL is -20908.11859417701 at iteration 18.\n",
      "INFO     [merf.py:307] Training GLL is -20921.937217565373 at iteration 19.\n",
      "INFO     [merf.py:307] Training GLL is -20933.867967239636 at iteration 20.\n",
      "INFO     [merf.py:307] Training GLL is -3495.821867372459 at iteration 1.\n",
      "INFO     [merf.py:307] Training GLL is -6255.487237731032 at iteration 2.\n",
      "INFO     [merf.py:307] Training GLL is -8747.479530756378 at iteration 3.\n",
      "INFO     [merf.py:307] Training GLL is -11117.140938403114 at iteration 4.\n",
      "INFO     [merf.py:307] Training GLL is -13411.850551261325 at iteration 5.\n",
      "INFO     [merf.py:307] Training GLL is -15638.921512193563 at iteration 6.\n",
      "INFO     [merf.py:307] Training GLL is -17738.136624907413 at iteration 7.\n",
      "INFO     [merf.py:307] Training GLL is -19475.86411909553 at iteration 8.\n",
      "INFO     [merf.py:307] Training GLL is -20513.966891061867 at iteration 9.\n",
      "INFO     [merf.py:307] Training GLL is -20938.50098480404 at iteration 10.\n",
      "INFO     [merf.py:307] Training GLL is -21107.330333257727 at iteration 11.\n",
      "INFO     [merf.py:307] Training GLL is -21194.16155629607 at iteration 12.\n",
      "INFO     [merf.py:307] Training GLL is -21248.561859948102 at iteration 13.\n",
      "INFO     [merf.py:307] Training GLL is -21286.50406770722 at iteration 14.\n",
      "INFO     [merf.py:307] Training GLL is -21314.860398681656 at iteration 15.\n",
      "INFO     [merf.py:307] Training GLL is -21337.431944628304 at iteration 16.\n",
      "INFO     [merf.py:307] Training GLL is -21356.01587473073 at iteration 17.\n",
      "INFO     [merf.py:307] Training GLL is -21371.968343984954 at iteration 18.\n",
      "INFO     [merf.py:307] Training GLL is -21385.8854514432 at iteration 19.\n",
      "INFO     [merf.py:307] Training GLL is -21398.384198291853 at iteration 20.\n",
      "INFO     [merf.py:307] Training GLL is -3501.5014449787345 at iteration 1.\n",
      "INFO     [merf.py:307] Training GLL is -6259.169491035182 at iteration 2.\n",
      "INFO     [merf.py:307] Training GLL is -8749.389946162359 at iteration 3.\n",
      "INFO     [merf.py:307] Training GLL is -11118.184124705562 at iteration 4.\n",
      "INFO     [merf.py:307] Training GLL is -13412.575753777375 at iteration 5.\n",
      "INFO     [merf.py:307] Training GLL is -15642.117311765967 at iteration 6.\n",
      "INFO     [merf.py:307] Training GLL is -17754.73212727267 at iteration 7.\n",
      "INFO     [merf.py:307] Training GLL is -19521.560199650296 at iteration 8.\n",
      "INFO     [merf.py:307] Training GLL is -20562.281996723297 at iteration 9.\n",
      "INFO     [merf.py:307] Training GLL is -20958.01905516579 at iteration 10.\n",
      "INFO     [merf.py:307] Training GLL is -21113.568897432524 at iteration 11.\n",
      "INFO     [merf.py:307] Training GLL is -21198.470892759477 at iteration 12.\n",
      "INFO     [merf.py:307] Training GLL is -21253.692958904336 at iteration 13.\n",
      "INFO     [merf.py:307] Training GLL is -21292.811920904638 at iteration 14.\n",
      "INFO     [merf.py:307] Training GLL is -21321.79259716966 at iteration 15.\n",
      "INFO     [merf.py:307] Training GLL is -21344.062347945088 at iteration 16.\n",
      "INFO     [merf.py:307] Training GLL is -21361.751571031473 at iteration 17.\n",
      "INFO     [merf.py:307] Training GLL is -21376.119921477453 at iteration 18.\n",
      "INFO     [merf.py:307] Training GLL is -21388.259955076122 at iteration 19.\n",
      "INFO     [merf.py:307] Training GLL is -21398.611328211562 at iteration 20.\n",
      "INFO     [merf.py:307] Training GLL is -3501.100633632584 at iteration 1.\n",
      "INFO     [merf.py:307] Training GLL is -6265.24140861675 at iteration 2.\n",
      "INFO     [merf.py:307] Training GLL is -8759.667407709114 at iteration 3.\n",
      "INFO     [merf.py:307] Training GLL is -11130.055331332927 at iteration 4.\n",
      "INFO     [merf.py:307] Training GLL is -13423.846423026145 at iteration 5.\n",
      "INFO     [merf.py:307] Training GLL is -15641.027698187303 at iteration 6.\n",
      "INFO     [merf.py:307] Training GLL is -17693.633604532046 at iteration 7.\n",
      "INFO     [merf.py:307] Training GLL is -19287.397867236723 at iteration 8.\n",
      "INFO     [merf.py:307] Training GLL is -20126.499451305073 at iteration 9.\n",
      "INFO     [merf.py:307] Training GLL is -20458.603521215246 at iteration 10.\n",
      "INFO     [merf.py:307] Training GLL is -20613.321348426693 at iteration 11.\n",
      "INFO     [merf.py:307] Training GLL is -20703.058966398643 at iteration 12.\n",
      "INFO     [merf.py:307] Training GLL is -20761.936183706006 at iteration 13.\n",
      "INFO     [merf.py:307] Training GLL is -20803.61618872922 at iteration 14.\n",
      "INFO     [merf.py:307] Training GLL is -20834.88669811099 at iteration 15.\n",
      "INFO     [merf.py:307] Training GLL is -20859.766811689107 at iteration 16.\n",
      "INFO     [merf.py:307] Training GLL is -20880.184741355104 at iteration 17.\n",
      "INFO     [merf.py:307] Training GLL is -20897.55244887316 at iteration 18.\n",
      "INFO     [merf.py:307] Training GLL is -20912.563396300695 at iteration 19.\n",
      "INFO     [merf.py:307] Training GLL is -20925.842282107995 at iteration 20.\n",
      "INFO     [merf.py:307] Training GLL is -3503.635205967001 at iteration 1.\n",
      "INFO     [merf.py:307] Training GLL is -6269.785615931249 at iteration 2.\n",
      "INFO     [merf.py:307] Training GLL is -8764.409556940709 at iteration 3.\n",
      "INFO     [merf.py:307] Training GLL is -11135.371540330705 at iteration 4.\n",
      "INFO     [merf.py:307] Training GLL is -13428.694856624605 at iteration 5.\n",
      "INFO     [merf.py:307] Training GLL is -15642.01985150877 at iteration 6.\n",
      "INFO     [merf.py:307] Training GLL is -17677.347698285703 at iteration 7.\n",
      "INFO     [merf.py:307] Training GLL is -19222.95040939305 at iteration 8.\n",
      "INFO     [merf.py:307] Training GLL is -20007.52753009003 at iteration 9.\n",
      "INFO     [merf.py:307] Training GLL is -20316.354288304203 at iteration 10.\n",
      "INFO     [merf.py:307] Training GLL is -20465.71317856523 at iteration 11.\n",
      "INFO     [merf.py:307] Training GLL is -20555.84300594319 at iteration 12.\n",
      "INFO     [merf.py:307] Training GLL is -20616.439518264644 at iteration 13.\n",
      "INFO     [merf.py:307] Training GLL is -20659.879354034027 at iteration 14.\n",
      "INFO     [merf.py:307] Training GLL is -20692.85244883044 at iteration 15.\n",
      "INFO     [merf.py:307] Training GLL is -20718.900783826506 at iteration 16.\n",
      "INFO     [merf.py:307] Training GLL is -20740.189550214465 at iteration 17.\n",
      "INFO     [merf.py:307] Training GLL is -20758.14382967183 at iteration 18.\n",
      "INFO     [merf.py:307] Training GLL is -20773.71099518063 at iteration 19.\n",
      "INFO     [merf.py:307] Training GLL is -20787.50826516756 at iteration 20.\n"
     ]
    },
    {
     "name": "stdout",
     "output_type": "stream",
     "text": [
      "Model Performance\n"
     ]
    },
    {
     "ename": "TypeError",
     "evalue": "unsupported format string passed to numpy.ndarray.__format__",
     "output_type": "error",
     "traceback": [
      "\u001b[1;31m---------------------------------------------------------------------------\u001b[0m",
      "\u001b[1;31mTypeError\u001b[0m                                 Traceback (most recent call last)",
      "Cell \u001b[1;32mIn [40], line 45\u001b[0m\n\u001b[0;32m     42\u001b[0m     accuracy_base_mrf\u001b[39m.\u001b[39mappend(accuracy)\n\u001b[0;32m     44\u001b[0m \u001b[39mprint\u001b[39m(\u001b[39m'\u001b[39m\u001b[39mModel Performance\u001b[39m\u001b[39m'\u001b[39m)\n\u001b[1;32m---> 45\u001b[0m \u001b[39mprint\u001b[39m(\u001b[39m'\u001b[39;49m\u001b[39mAverage Error: \u001b[39;49m\u001b[39m{:0.4f}\u001b[39;49;00m\u001b[39m degrees.\u001b[39;49m\u001b[39m'\u001b[39;49m\u001b[39m.\u001b[39;49mformat(np\u001b[39m.\u001b[39;49mmean(error_base_mrf)))\n\u001b[0;32m     46\u001b[0m \u001b[39mprint\u001b[39m(\u001b[39m'\u001b[39m\u001b[39mAccuracy = \u001b[39m\u001b[39m{:0.2f}\u001b[39;00m\u001b[39m%\u001b[39m\u001b[39m.\u001b[39m\u001b[39m'\u001b[39m\u001b[39m.\u001b[39mformat(np\u001b[39m.\u001b[39mmean(accuracy_base_mrf)))\n",
      "\u001b[1;31mTypeError\u001b[0m: unsupported format string passed to numpy.ndarray.__format__"
     ]
    }
   ],
   "source": [
    "cv = KFold(n_splits=5, shuffle=True)\n",
    "mse_base_mrf = []\n",
    "mape_base_mrf = []\n",
    "error_base_mrf = []\n",
    "accuracy_base_mrf = []\n",
    "\n",
    "for train_idx, test_idx in cv.split(processed_df):\n",
    "    # actually split the data\n",
    "    train = processed_df.iloc[train_idx]\n",
    "    test = processed_df.iloc[test_idx]\n",
    "    # ground truth\n",
    "    y = test['CO2 per Capita']\n",
    "\n",
    "    # Mixed Effects Random Forest Training with 5 vaiables as RE\n",
    "    base_mrf = MERF()\n",
    "    X_train =  train[['Time']]\n",
    "    Z_train = np.array((np.ones(len(X_train)), train['Renewable energy consumption'], \n",
    "                                               train['Trade (% of GDP)'],\n",
    "                                               train['Perc Manufacturing Value Added'],\n",
    "                                               train['GDP per capita'],\n",
    "                                               train['Urban Population'])).T\n",
    "    clusters_train = train['Country']\n",
    "    y_train = train['CO2 per Capita']\n",
    "    base_mrf.fit(X_train, Z_train, clusters_train, y_train)\n",
    "\n",
    "    # Mixed Effects Random Forest Test with 5 vaiables as RE\n",
    "    X_test =  test[['Time']]\n",
    "    Z_test = np.array((np.ones(len(X_test)),test['Renewable energy consumption'], \n",
    "                                               test['Trade (% of GDP)'],\n",
    "                                               test['Perc Manufacturing Value Added'],\n",
    "                                               test['GDP per capita'],\n",
    "                                               test['Urban Population'])).T\n",
    "    clusters_test = test['Country']\n",
    "    yhat_mrf = base_mrf.predict(X_test, Z_test, clusters_test)\n",
    "    mse_base_mrf.append(np.sqrt(np.sum((y - yhat_mrf)**2)) / len(y))\n",
    "\n",
    "    errors = abs(y - yhat_mrf)\n",
    "    error_base_mrf.append(errors)    \n",
    "    mape = 100 * np.mean(errors / yhat_mrf)\n",
    "    mape_base_mrf.append(mape)\n",
    "    accuracy = 100 - mape\n",
    "    accuracy_base_mrf.append(accuracy)\n",
    "\n",
    "print('Model Performance')\n",
    "print('Average Error: {:0.4f} degrees.'.format(np.mean(error_base_mrf)))\n",
    "print('Accuracy = {:0.2f}%.'.format(np.mean(accuracy_base_mrf)))"
   ]
  },
  {
   "attachments": {},
   "cell_type": "markdown",
   "metadata": {},
   "source": [
    "## Model 1"
   ]
  },
  {
   "cell_type": "code",
   "execution_count": null,
   "metadata": {},
   "outputs": [],
   "source": [
    "param_grid = {\n",
    "    'bootstrap': [True],\n",
    "    'max_depth': [80, 90, 100, 110, None],\n",
    "    'max_features': [2, 3],\n",
    "    'min_samples_leaf': [1, 2, 4],\n",
    "    'min_samples_split': [2, 4, 6, 8],\n",
    "    'n_estimators': [600, 800, 1000, 1200, 1400]\n",
    "}\n",
    "\n",
    "# Create a base model\n",
    "rf = RandomForestRegressor(random_state = 42)\n"
   ]
  },
  {
   "cell_type": "code",
   "execution_count": null,
   "metadata": {},
   "outputs": [
    {
     "name": "stdout",
     "output_type": "stream",
     "text": [
      "Fitting 2 folds for each of 600 candidates, totalling 1200 fits\n"
     ]
    },
    {
     "name": "stderr",
     "output_type": "stream",
     "text": [
      "INFO     [merf.py:307] Training GLL is -3495.7982919626475 at iteration 1.\n"
     ]
    },
    {
     "name": "stdout",
     "output_type": "stream",
     "text": [
      "Fitting 2 folds for each of 600 candidates, totalling 1200 fits\n"
     ]
    },
    {
     "ename": "KeyboardInterrupt",
     "evalue": "",
     "output_type": "error",
     "traceback": [
      "\u001b[1;31m---------------------------------------------------------------------------\u001b[0m",
      "\u001b[1;31mKeyboardInterrupt\u001b[0m                         Traceback (most recent call last)",
      "Cell \u001b[1;32mIn [54], line 25\u001b[0m\n\u001b[0;32m     23\u001b[0m clusters_train \u001b[39m=\u001b[39m train[\u001b[39m'\u001b[39m\u001b[39mCountry\u001b[39m\u001b[39m'\u001b[39m]\n\u001b[0;32m     24\u001b[0m y_train \u001b[39m=\u001b[39m train[\u001b[39m'\u001b[39m\u001b[39mCO2 per Capita\u001b[39m\u001b[39m'\u001b[39m]\n\u001b[1;32m---> 25\u001b[0m model_1_mrf\u001b[39m.\u001b[39;49mfit(X_train, Z_train, clusters_train, y_train)\n\u001b[0;32m     27\u001b[0m \u001b[39m# Mixed Effects Random Forest Test with 5 vaiables as RE\u001b[39;00m\n\u001b[0;32m     28\u001b[0m X_test \u001b[39m=\u001b[39m  test[[\u001b[39m'\u001b[39m\u001b[39mTime\u001b[39m\u001b[39m'\u001b[39m]]\n",
      "File \u001b[1;32mc:\\Users\\Student.DESKTOP-282GMUV\\AppData\\Local\\Programs\\Python\\Python310\\lib\\site-packages\\merf\\merf.py:219\u001b[0m, in \u001b[0;36mMERF.fit\u001b[1;34m(self, X, Z, clusters, y, X_val, Z_val, clusters_val, y_val)\u001b[0m\n\u001b[0;32m    216\u001b[0m \u001b[39massert\u001b[39;00m \u001b[39mlen\u001b[39m(y_star\u001b[39m.\u001b[39mshape) \u001b[39m==\u001b[39m \u001b[39m1\u001b[39m\n\u001b[0;32m    218\u001b[0m \u001b[39m# Do the fixed effects regression with all the fixed effects features\u001b[39;00m\n\u001b[1;32m--> 219\u001b[0m \u001b[39mself\u001b[39;49m\u001b[39m.\u001b[39;49mfe_model\u001b[39m.\u001b[39;49mfit(X, y_star)\n\u001b[0;32m    220\u001b[0m f_hat \u001b[39m=\u001b[39m \u001b[39mself\u001b[39m\u001b[39m.\u001b[39mfe_model\u001b[39m.\u001b[39mpredict(X)\n\u001b[0;32m    222\u001b[0m \u001b[39m# ~~~~~~~~~~~~~~~~~~~~~~~~~~~~~~ M-step ~~~~~~~~~~~~~~~~~~~~~~~~~~~~~~\u001b[39;00m\n",
      "File \u001b[1;32mc:\\Users\\Student.DESKTOP-282GMUV\\AppData\\Local\\Programs\\Python\\Python310\\lib\\site-packages\\sklearn\\model_selection\\_search.py:875\u001b[0m, in \u001b[0;36mBaseSearchCV.fit\u001b[1;34m(self, X, y, groups, **fit_params)\u001b[0m\n\u001b[0;32m    869\u001b[0m     results \u001b[39m=\u001b[39m \u001b[39mself\u001b[39m\u001b[39m.\u001b[39m_format_results(\n\u001b[0;32m    870\u001b[0m         all_candidate_params, n_splits, all_out, all_more_results\n\u001b[0;32m    871\u001b[0m     )\n\u001b[0;32m    873\u001b[0m     \u001b[39mreturn\u001b[39;00m results\n\u001b[1;32m--> 875\u001b[0m \u001b[39mself\u001b[39;49m\u001b[39m.\u001b[39;49m_run_search(evaluate_candidates)\n\u001b[0;32m    877\u001b[0m \u001b[39m# multimetric is determined here because in the case of a callable\u001b[39;00m\n\u001b[0;32m    878\u001b[0m \u001b[39m# self.scoring the return type is only known after calling\u001b[39;00m\n\u001b[0;32m    879\u001b[0m first_test_score \u001b[39m=\u001b[39m all_out[\u001b[39m0\u001b[39m][\u001b[39m\"\u001b[39m\u001b[39mtest_scores\u001b[39m\u001b[39m\"\u001b[39m]\n",
      "File \u001b[1;32mc:\\Users\\Student.DESKTOP-282GMUV\\AppData\\Local\\Programs\\Python\\Python310\\lib\\site-packages\\sklearn\\model_selection\\_search.py:1379\u001b[0m, in \u001b[0;36mGridSearchCV._run_search\u001b[1;34m(self, evaluate_candidates)\u001b[0m\n\u001b[0;32m   1377\u001b[0m \u001b[39mdef\u001b[39;00m \u001b[39m_run_search\u001b[39m(\u001b[39mself\u001b[39m, evaluate_candidates):\n\u001b[0;32m   1378\u001b[0m     \u001b[39m\"\"\"Search all candidates in param_grid\"\"\"\u001b[39;00m\n\u001b[1;32m-> 1379\u001b[0m     evaluate_candidates(ParameterGrid(\u001b[39mself\u001b[39;49m\u001b[39m.\u001b[39;49mparam_grid))\n",
      "File \u001b[1;32mc:\\Users\\Student.DESKTOP-282GMUV\\AppData\\Local\\Programs\\Python\\Python310\\lib\\site-packages\\sklearn\\model_selection\\_search.py:822\u001b[0m, in \u001b[0;36mBaseSearchCV.fit.<locals>.evaluate_candidates\u001b[1;34m(candidate_params, cv, more_results)\u001b[0m\n\u001b[0;32m    814\u001b[0m \u001b[39mif\u001b[39;00m \u001b[39mself\u001b[39m\u001b[39m.\u001b[39mverbose \u001b[39m>\u001b[39m \u001b[39m0\u001b[39m:\n\u001b[0;32m    815\u001b[0m     \u001b[39mprint\u001b[39m(\n\u001b[0;32m    816\u001b[0m         \u001b[39m\"\u001b[39m\u001b[39mFitting \u001b[39m\u001b[39m{0}\u001b[39;00m\u001b[39m folds for each of \u001b[39m\u001b[39m{1}\u001b[39;00m\u001b[39m candidates,\u001b[39m\u001b[39m\"\u001b[39m\n\u001b[0;32m    817\u001b[0m         \u001b[39m\"\u001b[39m\u001b[39m totalling \u001b[39m\u001b[39m{2}\u001b[39;00m\u001b[39m fits\u001b[39m\u001b[39m\"\u001b[39m\u001b[39m.\u001b[39mformat(\n\u001b[0;32m    818\u001b[0m             n_splits, n_candidates, n_candidates \u001b[39m*\u001b[39m n_splits\n\u001b[0;32m    819\u001b[0m         )\n\u001b[0;32m    820\u001b[0m     )\n\u001b[1;32m--> 822\u001b[0m out \u001b[39m=\u001b[39m parallel(\n\u001b[0;32m    823\u001b[0m     delayed(_fit_and_score)(\n\u001b[0;32m    824\u001b[0m         clone(base_estimator),\n\u001b[0;32m    825\u001b[0m         X,\n\u001b[0;32m    826\u001b[0m         y,\n\u001b[0;32m    827\u001b[0m         train\u001b[39m=\u001b[39;49mtrain,\n\u001b[0;32m    828\u001b[0m         test\u001b[39m=\u001b[39;49mtest,\n\u001b[0;32m    829\u001b[0m         parameters\u001b[39m=\u001b[39;49mparameters,\n\u001b[0;32m    830\u001b[0m         split_progress\u001b[39m=\u001b[39;49m(split_idx, n_splits),\n\u001b[0;32m    831\u001b[0m         candidate_progress\u001b[39m=\u001b[39;49m(cand_idx, n_candidates),\n\u001b[0;32m    832\u001b[0m         \u001b[39m*\u001b[39;49m\u001b[39m*\u001b[39;49mfit_and_score_kwargs,\n\u001b[0;32m    833\u001b[0m     )\n\u001b[0;32m    834\u001b[0m     \u001b[39mfor\u001b[39;49;00m (cand_idx, parameters), (split_idx, (train, test)) \u001b[39min\u001b[39;49;00m product(\n\u001b[0;32m    835\u001b[0m         \u001b[39menumerate\u001b[39;49m(candidate_params), \u001b[39menumerate\u001b[39;49m(cv\u001b[39m.\u001b[39;49msplit(X, y, groups))\n\u001b[0;32m    836\u001b[0m     )\n\u001b[0;32m    837\u001b[0m )\n\u001b[0;32m    839\u001b[0m \u001b[39mif\u001b[39;00m \u001b[39mlen\u001b[39m(out) \u001b[39m<\u001b[39m \u001b[39m1\u001b[39m:\n\u001b[0;32m    840\u001b[0m     \u001b[39mraise\u001b[39;00m \u001b[39mValueError\u001b[39;00m(\n\u001b[0;32m    841\u001b[0m         \u001b[39m\"\u001b[39m\u001b[39mNo fits were performed. \u001b[39m\u001b[39m\"\u001b[39m\n\u001b[0;32m    842\u001b[0m         \u001b[39m\"\u001b[39m\u001b[39mWas the CV iterator empty? \u001b[39m\u001b[39m\"\u001b[39m\n\u001b[0;32m    843\u001b[0m         \u001b[39m\"\u001b[39m\u001b[39mWere there no candidates?\u001b[39m\u001b[39m\"\u001b[39m\n\u001b[0;32m    844\u001b[0m     )\n",
      "File \u001b[1;32mc:\\Users\\Student.DESKTOP-282GMUV\\AppData\\Local\\Programs\\Python\\Python310\\lib\\site-packages\\joblib\\parallel.py:1098\u001b[0m, in \u001b[0;36mParallel.__call__\u001b[1;34m(self, iterable)\u001b[0m\n\u001b[0;32m   1095\u001b[0m     \u001b[39mself\u001b[39m\u001b[39m.\u001b[39m_iterating \u001b[39m=\u001b[39m \u001b[39mFalse\u001b[39;00m\n\u001b[0;32m   1097\u001b[0m \u001b[39mwith\u001b[39;00m \u001b[39mself\u001b[39m\u001b[39m.\u001b[39m_backend\u001b[39m.\u001b[39mretrieval_context():\n\u001b[1;32m-> 1098\u001b[0m     \u001b[39mself\u001b[39;49m\u001b[39m.\u001b[39;49mretrieve()\n\u001b[0;32m   1099\u001b[0m \u001b[39m# Make sure that we get a last message telling us we are done\u001b[39;00m\n\u001b[0;32m   1100\u001b[0m elapsed_time \u001b[39m=\u001b[39m time\u001b[39m.\u001b[39mtime() \u001b[39m-\u001b[39m \u001b[39mself\u001b[39m\u001b[39m.\u001b[39m_start_time\n",
      "File \u001b[1;32mc:\\Users\\Student.DESKTOP-282GMUV\\AppData\\Local\\Programs\\Python\\Python310\\lib\\site-packages\\joblib\\parallel.py:975\u001b[0m, in \u001b[0;36mParallel.retrieve\u001b[1;34m(self)\u001b[0m\n\u001b[0;32m    973\u001b[0m \u001b[39mtry\u001b[39;00m:\n\u001b[0;32m    974\u001b[0m     \u001b[39mif\u001b[39;00m \u001b[39mgetattr\u001b[39m(\u001b[39mself\u001b[39m\u001b[39m.\u001b[39m_backend, \u001b[39m'\u001b[39m\u001b[39msupports_timeout\u001b[39m\u001b[39m'\u001b[39m, \u001b[39mFalse\u001b[39;00m):\n\u001b[1;32m--> 975\u001b[0m         \u001b[39mself\u001b[39m\u001b[39m.\u001b[39m_output\u001b[39m.\u001b[39mextend(job\u001b[39m.\u001b[39;49mget(timeout\u001b[39m=\u001b[39;49m\u001b[39mself\u001b[39;49m\u001b[39m.\u001b[39;49mtimeout))\n\u001b[0;32m    976\u001b[0m     \u001b[39melse\u001b[39;00m:\n\u001b[0;32m    977\u001b[0m         \u001b[39mself\u001b[39m\u001b[39m.\u001b[39m_output\u001b[39m.\u001b[39mextend(job\u001b[39m.\u001b[39mget())\n",
      "File \u001b[1;32mc:\\Users\\Student.DESKTOP-282GMUV\\AppData\\Local\\Programs\\Python\\Python310\\lib\\site-packages\\joblib\\_parallel_backends.py:567\u001b[0m, in \u001b[0;36mLokyBackend.wrap_future_result\u001b[1;34m(future, timeout)\u001b[0m\n\u001b[0;32m    564\u001b[0m \u001b[39m\"\"\"Wrapper for Future.result to implement the same behaviour as\u001b[39;00m\n\u001b[0;32m    565\u001b[0m \u001b[39mAsyncResults.get from multiprocessing.\"\"\"\u001b[39;00m\n\u001b[0;32m    566\u001b[0m \u001b[39mtry\u001b[39;00m:\n\u001b[1;32m--> 567\u001b[0m     \u001b[39mreturn\u001b[39;00m future\u001b[39m.\u001b[39;49mresult(timeout\u001b[39m=\u001b[39;49mtimeout)\n\u001b[0;32m    568\u001b[0m \u001b[39mexcept\u001b[39;00m CfTimeoutError \u001b[39mas\u001b[39;00m e:\n\u001b[0;32m    569\u001b[0m     \u001b[39mraise\u001b[39;00m \u001b[39mTimeoutError\u001b[39;00m \u001b[39mfrom\u001b[39;00m \u001b[39me\u001b[39;00m\n",
      "File \u001b[1;32mc:\\Users\\Student.DESKTOP-282GMUV\\AppData\\Local\\Programs\\Python\\Python310\\lib\\concurrent\\futures\\_base.py:453\u001b[0m, in \u001b[0;36mFuture.result\u001b[1;34m(self, timeout)\u001b[0m\n\u001b[0;32m    450\u001b[0m \u001b[39melif\u001b[39;00m \u001b[39mself\u001b[39m\u001b[39m.\u001b[39m_state \u001b[39m==\u001b[39m FINISHED:\n\u001b[0;32m    451\u001b[0m     \u001b[39mreturn\u001b[39;00m \u001b[39mself\u001b[39m\u001b[39m.\u001b[39m__get_result()\n\u001b[1;32m--> 453\u001b[0m \u001b[39mself\u001b[39;49m\u001b[39m.\u001b[39;49m_condition\u001b[39m.\u001b[39;49mwait(timeout)\n\u001b[0;32m    455\u001b[0m \u001b[39mif\u001b[39;00m \u001b[39mself\u001b[39m\u001b[39m.\u001b[39m_state \u001b[39min\u001b[39;00m [CANCELLED, CANCELLED_AND_NOTIFIED]:\n\u001b[0;32m    456\u001b[0m     \u001b[39mraise\u001b[39;00m CancelledError()\n",
      "File \u001b[1;32mc:\\Users\\Student.DESKTOP-282GMUV\\AppData\\Local\\Programs\\Python\\Python310\\lib\\threading.py:320\u001b[0m, in \u001b[0;36mCondition.wait\u001b[1;34m(self, timeout)\u001b[0m\n\u001b[0;32m    318\u001b[0m \u001b[39mtry\u001b[39;00m:    \u001b[39m# restore state no matter what (e.g., KeyboardInterrupt)\u001b[39;00m\n\u001b[0;32m    319\u001b[0m     \u001b[39mif\u001b[39;00m timeout \u001b[39mis\u001b[39;00m \u001b[39mNone\u001b[39;00m:\n\u001b[1;32m--> 320\u001b[0m         waiter\u001b[39m.\u001b[39;49macquire()\n\u001b[0;32m    321\u001b[0m         gotit \u001b[39m=\u001b[39m \u001b[39mTrue\u001b[39;00m\n\u001b[0;32m    322\u001b[0m     \u001b[39melse\u001b[39;00m:\n",
      "\u001b[1;31mKeyboardInterrupt\u001b[0m: "
     ]
    }
   ],
   "source": [
    "cv = KFold(n_splits=5, shuffle=True)\n",
    "mse_model_1_mrf = []\n",
    "mape_model_1_mrf = []\n",
    "error_model_1_mrf = []\n",
    "accuracy_model_1_mrf = []\n",
    "\n",
    "for train_idx, test_idx in cv.split(processed_df):\n",
    "    # actually split the data\n",
    "    train = processed_df.iloc[train_idx]\n",
    "    test = processed_df.iloc[test_idx]\n",
    "    # ground truth\n",
    "    y = test['CO2 per Capita']\n",
    "\n",
    "    # Mixed Effects Random Forest Training with 5 vaiables as RE\n",
    "    model_1_mrf = MERF(fixed_effects_model=GridSearchCV(estimator = rf, param_grid = param_grid, \n",
    "                     cv= 2,n_jobs = -1, verbose = 2, return_train_score=True))\n",
    "    X_train =  train[['Time']]\n",
    "    Z_train = np.array((np.ones(len(X_train)), train['Renewable energy consumption'], \n",
    "                                               train['Trade (% of GDP)'],\n",
    "                                               train['Perc Manufacturing Value Added'],\n",
    "                                               train['GDP per capita'],\n",
    "                                               train['Urban Population'])).T\n",
    "    clusters_train = train['Country']\n",
    "    y_train = train['CO2 per Capita']\n",
    "    model_1_mrf.fit(X_train, Z_train, clusters_train, y_train)\n",
    "\n",
    "    # Mixed Effects Random Forest Test with 5 vaiables as RE\n",
    "    X_test =  test[['Time']]\n",
    "    Z_test = np.array((np.ones(len(X_test)),test['Renewable energy consumption'], \n",
    "                                               test['Trade (% of GDP)'],\n",
    "                                               test['Perc Manufacturing Value Added'],\n",
    "                                               test['GDP per capita'],\n",
    "                                               test['Urban Population'])).T\n",
    "    clusters_test = test['Country']\n",
    "    yha_model_1_mrf = model_1_mrf.predict(X_test, Z_test, clusters_test)\n",
    "    mse_model_1_mrf.append(np.sqrt(np.sum((y - yha_model_1_mrf)**2)) / len(y))\n",
    "\n",
    "    errors = abs(y - yha_model_1_mrf)\n",
    "    error_model_1_mrf.append(mape)    \n",
    "    mape = 100 * np.mean(errors / yha_model_1_mrf)\n",
    "    mape_model_1_mrf.append(mape)\n",
    "    accuracy = 100 - mape\n",
    "    accuracy_model_1_mrf.append(accuracy)\n",
    "\n",
    "print('Model Performance')\n",
    "print('Average Error: {:0.4f} degrees.'.format(np.mean(error_model_1_mrf)))\n",
    "print('Accuracy = {:0.2f}%.'.format(np.mean(accuracy_model_1_mrf)))\n"
   ]
  },
  {
   "cell_type": "code",
   "execution_count": null,
   "metadata": {},
   "outputs": [],
   "source": []
  },
  {
   "cell_type": "code",
   "execution_count": null,
   "metadata": {},
   "outputs": [],
   "source": []
  },
  {
   "cell_type": "code",
   "execution_count": null,
   "metadata": {},
   "outputs": [],
   "source": [
    "gains = (100 * (mse_df.iloc[0] - mse_df)/ mse_df.iloc[0]).mean(axis=1)\n",
    "gains = pd.DataFrame(gains)\n",
    "gains.columns  = ['Gain Value']\n",
    "gains.reset_index(inplace=True)\n",
    "gains = gains.rename(columns = {'index':'Model'})"
   ]
  },
  {
   "cell_type": "code",
   "execution_count": null,
   "metadata": {},
   "outputs": [],
   "source": []
  },
  {
   "cell_type": "code",
   "execution_count": null,
   "metadata": {},
   "outputs": [],
   "source": [
    "plt.rcParams[\"figure.figsize\"] = [18, 8]\n",
    "seas.barplot(x = 'Model',y='Gain Value',data = gains)\n",
    "plt.xticks(rotation=45)"
   ]
  },
  {
   "cell_type": "code",
   "execution_count": null,
   "metadata": {},
   "outputs": [],
   "source": [
    "viz.plot_merf_training_stats(mrf,num_clusters_to_plot=2)"
   ]
  },
  {
   "cell_type": "code",
   "execution_count": null,
   "metadata": {},
   "outputs": [],
   "source": [
    "plt.rcParams[\"figure.figsize\"] = [18, 8]\n",
    "mrf.b_hat_history[-1][1].hist()\n",
    "plt.xticks(rotation=45)"
   ]
  },
  {
   "cell_type": "code",
   "execution_count": null,
   "metadata": {},
   "outputs": [],
   "source": []
  }
 ],
 "metadata": {
  "kernelspec": {
   "display_name": "Python 3.10.7 64-bit",
   "language": "python",
   "name": "python3"
  },
  "language_info": {
   "codemirror_mode": {
    "name": "ipython",
    "version": 3
   },
   "file_extension": ".py",
   "mimetype": "text/x-python",
   "name": "python",
   "nbconvert_exporter": "python",
   "pygments_lexer": "ipython3",
   "version": "3.10.7"
  },
  "orig_nbformat": 4,
  "vscode": {
   "interpreter": {
    "hash": "4dbc151cf00f56462e9d52f8dd96577dce54be186f7182e45e36ec7a9dda46e4"
   }
  }
 },
 "nbformat": 4,
 "nbformat_minor": 2
}
