{
 "cells": [
  {
   "cell_type": "markdown",
   "metadata": {},
   "source": [
    "# Data Mining Final Project\n",
    "James Crim copy/version of script\n",
    "\n",
    "Teammates are Amy Sharp and Chirag Lakhanpal!"
   ]
  },
  {
   "cell_type": "markdown",
   "metadata": {
    "heading_collapsed": true
   },
   "source": [
    "## Setup"
   ]
  },
  {
   "cell_type": "code",
   "execution_count": 49,
   "metadata": {
    "hidden": true
   },
   "outputs": [
    {
     "data": {
      "text/html": [
       "<style>.container { width:95% !important; }</style>"
      ],
      "text/plain": [
       "<IPython.core.display.HTML object>"
      ]
     },
     "metadata": {},
     "output_type": "display_data"
    }
   ],
   "source": [
    "from IPython.core.display import display, HTML;\n",
    "display(HTML(\"<style>.container { width:95% !important; }</style>\"));"
   ]
  },
  {
   "cell_type": "code",
   "execution_count": 50,
   "metadata": {
    "hidden": true
   },
   "outputs": [],
   "source": [
    "# import packages\n",
    "import pandas as pd\n",
    "import numpy as np\n",
    "import matplotlib\n",
    "import matplotlib.pyplot as plt\n",
    "import wbgapi as wb\n",
    "import statsmodels.api as sm\n",
    "import sklearn as skl\n",
    "\n",
    "# sklearn subpackages\n",
    "from sklearn import model_selection as mdl_slct\n",
    "from sklearn.linear_model import LassoCV\n",
    "from sklearn.linear_model import Ridge\n",
    "from sklearn.linear_model import RidgeCV\n",
    "from sklearn.model_selection import LeaveOneOut\n",
    "from sklearn.model_selection import RepeatedKFold\n",
    "from sklearn.decomposition import PCA\n",
    "from sklearn.tree import DecisionTreeRegressor\n",
    "from sklearn.ensemble import RandomForestRegressor\n",
    "\n",
    "# plot figures larger\n",
    "plt.rcParams['figure.figsize'] = [24, 6]\n",
    "\n",
    "# set seed\n",
    "np.random.seed(2022)"
   ]
  },
  {
   "cell_type": "markdown",
   "metadata": {
    "heading_collapsed": true
   },
   "source": [
    "## Importing and Cleaning Data"
   ]
  },
  {
   "cell_type": "code",
   "execution_count": 51,
   "metadata": {
    "hidden": true
   },
   "outputs": [],
   "source": [
    "# set up for importing data from API\n",
    "\n",
    "# get set of country codes to use to import data from world bank\n",
    "country_names_raw = pd.read_csv('CountrUsedN(1).csv', header=None)\n",
    "country_names = country_names_raw.iloc[:, 0].to_list()\n",
    "country_codes_list = list(wb.economy.coder(country_names).values())\n",
    "country_codes_set = set(country_codes_list)\n",
    "\n",
    "# years of interest (\"since 1994\")\n",
    "year_list = range(1994, 2023)\n",
    "\n",
    "# the seven indexes to use (copied from WorldBankIndUsed.docx from the Data Mining Blackboard)\n",
    "# note: CO2 emmissions per captia (CO2 kt / pop) is the outcome variable, the other x variables are predictor variables\n",
    "world_bank_index_codes = ['EN.ATM.CO2E.KT', 'NY.GDP.MKTP.PP.KD',  'SP.POP.TOTL', 'EG.FEC.RNEW.ZS', 'SP.URB.TOTL.IN.ZS', 'NV.MNF.TECH.ZS.UN', 'NE.TRD.GNFS.ZS']\n",
    "\n",
    "# names manually typed up by me (same order as indexes, will probably be unused):\n",
    "world_bank_index_names_long = ['CO2 Emissions (kt)', 'GDP per Capita, PPP (Constant 2017 International $)', 'Population, Total', 'Renewable Energy Consumption (% of Total Final Energy)',\n",
    "                                 'Urban Population (% of Total Population)', 'Medium and High-Tech Manufacturing Value Added (% Manufacturing Value Added)', 'Trade (% of GDP)']\n",
    "world_bank_index_names_short = ['CO2 Emissions', 'GDP per Capita', 'Population', '% Renewable Energy', '% Urban', '% Med/High Manufacturing', '% Trade of GDP']"
   ]
  },
  {
   "cell_type": "code",
   "execution_count": 52,
   "metadata": {
    "hidden": true
   },
   "outputs": [],
   "source": [
    "# import the data from the API\n",
    "# URL of API package: https://pypi.org/project/wbgapi/\n",
    "raw_dat = wb.data.DataFrame(world_bank_index_codes, country_codes_set, year_list, labels=True)\n",
    "\n",
    "# swap around the way the three dimensions are multi-indexed such that country and then year are on the x axis (rows) and economic indicators are on the y axis (columns)\n",
    "reordered_data = raw_dat.pivot(index='Series', columns='Country').transpose().swaplevel().sort_index()\n",
    "\n",
    "# renaming columns to shorter names (unused)\n",
    "#dat.columns = world_bank_index_names_short\n",
    "\n",
    "# remove missing data\n",
    "dat = dat.dropna()\n",
    "\n",
    "# detect any missing data, all zeros means no missing data\n",
    "np.sum(dat.isna())\n",
    "\n",
    "# save created data\n",
    "reordered_data.to_pickle(\"Data Mining Final Project Starting Data (WB Data).pkl\")"
   ]
  },
  {
   "cell_type": "code",
   "execution_count": 53,
   "metadata": {
    "hidden": true
   },
   "outputs": [],
   "source": [
    "# load created data\n",
    "dat = pd.read_pickle(\"Data Mining Final Project Starting Data (WB Data).pkl\")"
   ]
  },
  {
   "cell_type": "markdown",
   "metadata": {
    "heading_collapsed": true
   },
   "source": [
    "## Functions to Get Subsections of the Cleaned Data"
   ]
  },
  {
   "cell_type": "code",
   "execution_count": 78,
   "metadata": {
    "hidden": true
   },
   "outputs": [],
   "source": [
    "# function to get a 2D dataframe of all country and measure data from a specific, single year\n",
    "def get_year_data(year):\n",
    "    return pd.DataFrame(dat.swaplevel().loc['YR'+str(year)])\n",
    "\n",
    "# function to get a 2D dataframe of all years and measure data from a specific, single country\n",
    "def get_country_data(country):\n",
    "    return dat.loc[country]\n",
    "\n",
    "# function to get a 1D multiplex dataframe of all years and all countries for a specific, single measure\n",
    "def get_measure_data(measure_name):\n",
    "    return pd.DataFrame(dat.loc[:, measure_name])\n",
    "\n",
    "# function to get 1D multiplex dataframe of country data from a specific range of years for a specific measure\n",
    "def get_specific_measures_for_specific_years(measure_name, year_start, year_end):\n",
    "    year_end = year_end+1\n",
    "    years_of_interest = np.char.add(np.repeat('YR', year_end-year_start), np.array(range(year_start, year_end)).astype(str))\n",
    "    #print(years_of_interest_names)\n",
    "    return pd.DataFrame(dat.swaplevel().loc[years_of_interest, measure_name])\n",
    "\n",
    "# example use of functions\n",
    "#get_country_data('United States')\n",
    "#get_year_data(2003)\n",
    "#get_measure_data('Population, total')\n",
    "#get_specific_measures_for_specific_years(measure_name='Population, total', year_start=1994, year_end=2008)"
   ]
  },
  {
   "cell_type": "markdown",
   "metadata": {},
   "source": [
    "# Instructions"
   ]
  },
  {
   "cell_type": "markdown",
   "metadata": {},
   "source": [
    "Note: The following instructions are copied directly from Blackboard and the files downloaded from there about our final project."
   ]
  },
  {
   "cell_type": "markdown",
   "metadata": {},
   "source": [
    "Assigned Model:\n",
    "\n",
    "Mixed Effects Random Forests in Python\n",
    "\n",
    "Provided Link: https://towardsdatascience.com/mixed-effects-random-forests-6ecbb85cb177"
   ]
  },
  {
   "cell_type": "markdown",
   "metadata": {},
   "source": [
    "World Bank Data\n",
    "\n",
    "Consider\n",
    "\n",
    "1. around 58 countries (subject to data availability), the list of countries to start from is attached \n",
    "\n",
    "2. macroeconomic indexes (attached)\n",
    "\n",
    "3. measured since 1994.\n",
    " \n",
    "CO2 emission per capita, is a response, all other indexes are covariates.   \n",
    " \n",
    "Tasks\n",
    "\n",
    "1. Study patterns of heterogeneity in relationships between the response and covariates.\n",
    "\n",
    "2. Build a model to predict a response."
   ]
  },
  {
   "cell_type": "markdown",
   "metadata": {},
   "source": [
    "Deadlines:\n",
    "\n",
    "1. Dec 8th (Thursday): In-class presentation\n",
    "2. Dec 20th (Tuesday): Final report due"
   ]
  },
  {
   "cell_type": "code",
   "execution_count": null,
   "metadata": {},
   "outputs": [],
   "source": []
  },
  {
   "cell_type": "code",
   "execution_count": null,
   "metadata": {},
   "outputs": [],
   "source": []
  },
  {
   "cell_type": "code",
   "execution_count": null,
   "metadata": {},
   "outputs": [],
   "source": []
  },
  {
   "cell_type": "code",
   "execution_count": null,
   "metadata": {},
   "outputs": [],
   "source": []
  }
 ],
 "metadata": {
  "kernelspec": {
   "display_name": "Python 3",
   "language": "python",
   "name": "python3"
  },
  "language_info": {
   "codemirror_mode": {
    "name": "ipython",
    "version": 3
   },
   "file_extension": ".py",
   "mimetype": "text/x-python",
   "name": "python",
   "nbconvert_exporter": "python",
   "pygments_lexer": "ipython3",
   "version": "3.8.5"
  },
  "toc": {
   "base_numbering": 1,
   "nav_menu": {},
   "number_sections": true,
   "sideBar": true,
   "skip_h1_title": false,
   "title_cell": "Table of Contents",
   "title_sidebar": "Contents",
   "toc_cell": false,
   "toc_position": {},
   "toc_section_display": true,
   "toc_window_display": false
  }
 },
 "nbformat": 4,
 "nbformat_minor": 4
}
